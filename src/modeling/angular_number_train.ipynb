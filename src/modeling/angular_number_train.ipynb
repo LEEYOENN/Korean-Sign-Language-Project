{
 "cells": [
  {
   "cell_type": "markdown",
   "id": "70280ac7",
   "metadata": {},
   "source": [
    "# import"
   ]
  },
  {
   "cell_type": "code",
   "execution_count": 1,
   "id": "783751df",
   "metadata": {},
   "outputs": [],
   "source": [
    "import pandas as pd\n",
    "\n",
    "# 보통 현재 작업 폴더(CWD)가 src 이므로 부모(프로젝트 루트)를 sys.path에 추가\n",
    "import sys, os\n",
    "from pathlib import Path\n",
    "\n",
    "ROOT = Path.cwd().parent\n",
    "if (ROOT / \"utils\").exists():\n",
    "    sys.path.insert(0, str(ROOT))\n",
    "else:\n",
    "    # 혹시 구조가 더 깊을 때 대비\n",
    "    ROOT2 = ROOT.parent\n",
    "    if (ROOT2 / \"utils\").exists():\n",
    "        sys.path.insert(0, str(ROOT2))\n",
    "\n",
    "from utils.mediapipe_util import get_landmark_data, LANDMARK_MODE"
   ]
  },
  {
   "cell_type": "markdown",
   "id": "b871dbf4",
   "metadata": {},
   "source": [
    "# 라벨 데이터"
   ]
  },
  {
   "cell_type": "code",
   "execution_count": 2,
   "id": "39ac9d46",
   "metadata": {},
   "outputs": [],
   "source": [
    "sign_code_df = pd.read_csv(\"../../data/sign_code.csv\")"
   ]
  },
  {
   "cell_type": "code",
   "execution_count": 3,
   "id": "456b4829",
   "metadata": {},
   "outputs": [
    {
     "data": {
      "text/html": [
       "<div>\n",
       "<style scoped>\n",
       "    .dataframe tbody tr th:only-of-type {\n",
       "        vertical-align: middle;\n",
       "    }\n",
       "\n",
       "    .dataframe tbody tr th {\n",
       "        vertical-align: top;\n",
       "    }\n",
       "\n",
       "    .dataframe thead th {\n",
       "        text-align: right;\n",
       "    }\n",
       "</style>\n",
       "<table border=\"1\" class=\"dataframe\">\n",
       "  <thead>\n",
       "    <tr style=\"text-align: right;\">\n",
       "      <th></th>\n",
       "      <th>label</th>\n",
       "      <th>sign_num</th>\n",
       "      <th>seq_Id</th>\n",
       "      <th>sign_text</th>\n",
       "      <th>seq_count</th>\n",
       "    </tr>\n",
       "  </thead>\n",
       "  <tbody>\n",
       "    <tr>\n",
       "      <th>0</th>\n",
       "      <td>0</td>\n",
       "      <td>1</td>\n",
       "      <td>0</td>\n",
       "      <td>1</td>\n",
       "      <td>1</td>\n",
       "    </tr>\n",
       "    <tr>\n",
       "      <th>1</th>\n",
       "      <td>1</td>\n",
       "      <td>2</td>\n",
       "      <td>0</td>\n",
       "      <td>2</td>\n",
       "      <td>1</td>\n",
       "    </tr>\n",
       "    <tr>\n",
       "      <th>2</th>\n",
       "      <td>2</td>\n",
       "      <td>3</td>\n",
       "      <td>0</td>\n",
       "      <td>3</td>\n",
       "      <td>1</td>\n",
       "    </tr>\n",
       "    <tr>\n",
       "      <th>3</th>\n",
       "      <td>3</td>\n",
       "      <td>4</td>\n",
       "      <td>0</td>\n",
       "      <td>4</td>\n",
       "      <td>1</td>\n",
       "    </tr>\n",
       "    <tr>\n",
       "      <th>4</th>\n",
       "      <td>4</td>\n",
       "      <td>5</td>\n",
       "      <td>0</td>\n",
       "      <td>5</td>\n",
       "      <td>1</td>\n",
       "    </tr>\n",
       "    <tr>\n",
       "      <th>5</th>\n",
       "      <td>5</td>\n",
       "      <td>6</td>\n",
       "      <td>0</td>\n",
       "      <td>6</td>\n",
       "      <td>1</td>\n",
       "    </tr>\n",
       "    <tr>\n",
       "      <th>6</th>\n",
       "      <td>6</td>\n",
       "      <td>7</td>\n",
       "      <td>0</td>\n",
       "      <td>7</td>\n",
       "      <td>1</td>\n",
       "    </tr>\n",
       "    <tr>\n",
       "      <th>7</th>\n",
       "      <td>7</td>\n",
       "      <td>8</td>\n",
       "      <td>0</td>\n",
       "      <td>8</td>\n",
       "      <td>1</td>\n",
       "    </tr>\n",
       "    <tr>\n",
       "      <th>8</th>\n",
       "      <td>8</td>\n",
       "      <td>9</td>\n",
       "      <td>0</td>\n",
       "      <td>9</td>\n",
       "      <td>1</td>\n",
       "    </tr>\n",
       "    <tr>\n",
       "      <th>9</th>\n",
       "      <td>9</td>\n",
       "      <td>10</td>\n",
       "      <td>0</td>\n",
       "      <td>10</td>\n",
       "      <td>2</td>\n",
       "    </tr>\n",
       "    <tr>\n",
       "      <th>10</th>\n",
       "      <td>10</td>\n",
       "      <td>10</td>\n",
       "      <td>1</td>\n",
       "      <td>10</td>\n",
       "      <td>2</td>\n",
       "    </tr>\n",
       "    <tr>\n",
       "      <th>11</th>\n",
       "      <td>11</td>\n",
       "      <td>11</td>\n",
       "      <td>0</td>\n",
       "      <td>예</td>\n",
       "      <td>1</td>\n",
       "    </tr>\n",
       "    <tr>\n",
       "      <th>12</th>\n",
       "      <td>12</td>\n",
       "      <td>12</td>\n",
       "      <td>0</td>\n",
       "      <td>아니오</td>\n",
       "      <td>2</td>\n",
       "    </tr>\n",
       "    <tr>\n",
       "      <th>13</th>\n",
       "      <td>13</td>\n",
       "      <td>12</td>\n",
       "      <td>1</td>\n",
       "      <td>아니오</td>\n",
       "      <td>2</td>\n",
       "    </tr>\n",
       "    <tr>\n",
       "      <th>14</th>\n",
       "      <td>14</td>\n",
       "      <td>13</td>\n",
       "      <td>0</td>\n",
       "      <td>좋아요</td>\n",
       "      <td>1</td>\n",
       "    </tr>\n",
       "    <tr>\n",
       "      <th>15</th>\n",
       "      <td>15</td>\n",
       "      <td>14</td>\n",
       "      <td>0</td>\n",
       "      <td>싫어요</td>\n",
       "      <td>1</td>\n",
       "    </tr>\n",
       "    <tr>\n",
       "      <th>16</th>\n",
       "      <td>16</td>\n",
       "      <td>15</td>\n",
       "      <td>0</td>\n",
       "      <td>맞다</td>\n",
       "      <td>1</td>\n",
       "    </tr>\n",
       "    <tr>\n",
       "      <th>17</th>\n",
       "      <td>17</td>\n",
       "      <td>16</td>\n",
       "      <td>0</td>\n",
       "      <td>틀리다</td>\n",
       "      <td>2</td>\n",
       "    </tr>\n",
       "    <tr>\n",
       "      <th>18</th>\n",
       "      <td>18</td>\n",
       "      <td>16</td>\n",
       "      <td>1</td>\n",
       "      <td>틀리다</td>\n",
       "      <td>2</td>\n",
       "    </tr>\n",
       "    <tr>\n",
       "      <th>19</th>\n",
       "      <td>19</td>\n",
       "      <td>17</td>\n",
       "      <td>0</td>\n",
       "      <td>쉽다</td>\n",
       "      <td>2</td>\n",
       "    </tr>\n",
       "    <tr>\n",
       "      <th>20</th>\n",
       "      <td>20</td>\n",
       "      <td>17</td>\n",
       "      <td>1</td>\n",
       "      <td>쉽다</td>\n",
       "      <td>2</td>\n",
       "    </tr>\n",
       "    <tr>\n",
       "      <th>21</th>\n",
       "      <td>21</td>\n",
       "      <td>18</td>\n",
       "      <td>0</td>\n",
       "      <td>어렵다</td>\n",
       "      <td>2</td>\n",
       "    </tr>\n",
       "    <tr>\n",
       "      <th>22</th>\n",
       "      <td>22</td>\n",
       "      <td>18</td>\n",
       "      <td>1</td>\n",
       "      <td>어렵다</td>\n",
       "      <td>2</td>\n",
       "    </tr>\n",
       "    <tr>\n",
       "      <th>23</th>\n",
       "      <td>23</td>\n",
       "      <td>19</td>\n",
       "      <td>0</td>\n",
       "      <td>있어요</td>\n",
       "      <td>1</td>\n",
       "    </tr>\n",
       "    <tr>\n",
       "      <th>24</th>\n",
       "      <td>24</td>\n",
       "      <td>20</td>\n",
       "      <td>0</td>\n",
       "      <td>없어요</td>\n",
       "      <td>1</td>\n",
       "    </tr>\n",
       "  </tbody>\n",
       "</table>\n",
       "</div>"
      ],
      "text/plain": [
       "    label  sign_num  seq_Id sign_text  seq_count\n",
       "0       0         1       0         1          1\n",
       "1       1         2       0         2          1\n",
       "2       2         3       0         3          1\n",
       "3       3         4       0         4          1\n",
       "4       4         5       0         5          1\n",
       "5       5         6       0         6          1\n",
       "6       6         7       0         7          1\n",
       "7       7         8       0         8          1\n",
       "8       8         9       0         9          1\n",
       "9       9        10       0        10          2\n",
       "10     10        10       1        10          2\n",
       "11     11        11       0         예          1\n",
       "12     12        12       0       아니오          2\n",
       "13     13        12       1       아니오          2\n",
       "14     14        13       0       좋아요          1\n",
       "15     15        14       0       싫어요          1\n",
       "16     16        15       0        맞다          1\n",
       "17     17        16       0       틀리다          2\n",
       "18     18        16       1       틀리다          2\n",
       "19     19        17       0        쉽다          2\n",
       "20     20        17       1        쉽다          2\n",
       "21     21        18       0       어렵다          2\n",
       "22     22        18       1       어렵다          2\n",
       "23     23        19       0       있어요          1\n",
       "24     24        20       0       없어요          1"
      ]
     },
     "execution_count": 3,
     "metadata": {},
     "output_type": "execute_result"
    }
   ],
   "source": [
    "sign_code_df"
   ]
  },
  {
   "cell_type": "markdown",
   "id": "71396369",
   "metadata": {},
   "source": [
    "# 데이터 병합"
   ]
  },
  {
   "cell_type": "markdown",
   "id": "17f2378a",
   "metadata": {},
   "source": [
    "## 수집한 데이터 합치기"
   ]
  },
  {
   "cell_type": "code",
   "execution_count": 4,
   "id": "14f9e039",
   "metadata": {},
   "outputs": [],
   "source": [
    "HAND_COUNT = 21 * 3\n",
    "POSE_COUNT = 11 * 3"
   ]
  },
  {
   "cell_type": "markdown",
   "id": "394cfb33",
   "metadata": {},
   "source": [
    "## 헤더 추가\n",
    "🚨 주의!!!! 이미 헤더가 있는 경우 또 추가될 수 있음!"
   ]
  },
  {
   "cell_type": "code",
   "execution_count": 5,
   "id": "b2a657f4",
   "metadata": {},
   "outputs": [],
   "source": [
    "# for i in range(7, 8):\n",
    "#     data = pd.read_csv(f\"../../data/sign_data/sign_data_{i}.csv\")\n",
    "    # data.insert(0, 'label', [i] * len(data))\n",
    "    # columns = [i for i in range(len(data.columns) - 1)]\n",
    "    # columns.insert(0, 'label')\n",
    "    # data.columns = columns\n",
    "    # data.to_csv(f\"../../data/sign_data/sign_data_{i}.csv\", index=False)"
   ]
  },
  {
   "cell_type": "code",
   "execution_count": 6,
   "id": "d8c14a50",
   "metadata": {},
   "outputs": [],
   "source": [
    "# i = 5\n",
    "# data = pd.read_csv(f\"../../data/sign_data/sign_data_{i}.csv\", index_col=False)\n",
    "# data.loc[:, 'label'] = i\n",
    "# data.to_csv(f\"../../data/sign_data/sign_data_{i}.csv\", index=False)"
   ]
  },
  {
   "cell_type": "markdown",
   "id": "7be7356a",
   "metadata": {},
   "source": [
    "## 병합"
   ]
  },
  {
   "cell_type": "code",
   "execution_count": 7,
   "id": "55c0818d",
   "metadata": {},
   "outputs": [
    {
     "name": "stdout",
     "output_type": "stream",
     "text": [
      "0\n",
      "1\n",
      "2\n",
      "3\n",
      "4\n",
      "5\n",
      "6\n",
      "14\n",
      "15\n",
      "16\n",
      "24\n"
     ]
    }
   ],
   "source": [
    "merged_data = pd.DataFrame()\n",
    "\n",
    "for i, label in enumerate([0, 1, 2, 3, 4, 5, 6, 14, 15, 16, 24]):\n",
    "    print(label)\n",
    "    data = pd.read_csv(f\"../../data/sign_data/sign_data_{label}.csv\", index_col=False)\n",
    "    data = data.drop(['label'], axis=1)\n",
    "    data.loc[:, 'label'] = i\n",
    "    data = data.sample(n = 500, replace=False)\n",
    "    merged_data = pd.concat([merged_data, data], ignore_index=True)\n",
    "\n",
    "df = merged_data"
   ]
  },
  {
   "cell_type": "code",
   "execution_count": 8,
   "id": "e839643c",
   "metadata": {},
   "outputs": [
    {
     "data": {
      "text/html": [
       "<div>\n",
       "<style scoped>\n",
       "    .dataframe tbody tr th:only-of-type {\n",
       "        vertical-align: middle;\n",
       "    }\n",
       "\n",
       "    .dataframe tbody tr th {\n",
       "        vertical-align: top;\n",
       "    }\n",
       "\n",
       "    .dataframe thead th {\n",
       "        text-align: right;\n",
       "    }\n",
       "</style>\n",
       "<table border=\"1\" class=\"dataframe\">\n",
       "  <thead>\n",
       "    <tr style=\"text-align: right;\">\n",
       "      <th></th>\n",
       "      <th>0</th>\n",
       "      <th>1</th>\n",
       "      <th>2</th>\n",
       "      <th>3</th>\n",
       "      <th>4</th>\n",
       "      <th>5</th>\n",
       "      <th>6</th>\n",
       "      <th>7</th>\n",
       "      <th>8</th>\n",
       "      <th>9</th>\n",
       "      <th>...</th>\n",
       "      <th>150</th>\n",
       "      <th>151</th>\n",
       "      <th>152</th>\n",
       "      <th>153</th>\n",
       "      <th>154</th>\n",
       "      <th>155</th>\n",
       "      <th>156</th>\n",
       "      <th>157</th>\n",
       "      <th>158</th>\n",
       "      <th>label</th>\n",
       "    </tr>\n",
       "  </thead>\n",
       "  <tbody>\n",
       "    <tr>\n",
       "      <th>0</th>\n",
       "      <td>0</td>\n",
       "      <td>0</td>\n",
       "      <td>0</td>\n",
       "      <td>0</td>\n",
       "      <td>0</td>\n",
       "      <td>0</td>\n",
       "      <td>0</td>\n",
       "      <td>0</td>\n",
       "      <td>0</td>\n",
       "      <td>0</td>\n",
       "      <td>...</td>\n",
       "      <td>0.414344</td>\n",
       "      <td>0.441436</td>\n",
       "      <td>-0.388483</td>\n",
       "      <td>0.520840</td>\n",
       "      <td>0.509255</td>\n",
       "      <td>-0.675579</td>\n",
       "      <td>0.465188</td>\n",
       "      <td>0.512263</td>\n",
       "      <td>-0.675106</td>\n",
       "      <td>0</td>\n",
       "    </tr>\n",
       "    <tr>\n",
       "      <th>1</th>\n",
       "      <td>0</td>\n",
       "      <td>0</td>\n",
       "      <td>0</td>\n",
       "      <td>0</td>\n",
       "      <td>0</td>\n",
       "      <td>0</td>\n",
       "      <td>0</td>\n",
       "      <td>0</td>\n",
       "      <td>0</td>\n",
       "      <td>0</td>\n",
       "      <td>...</td>\n",
       "      <td>0.413644</td>\n",
       "      <td>0.435605</td>\n",
       "      <td>-0.348468</td>\n",
       "      <td>0.503538</td>\n",
       "      <td>0.516863</td>\n",
       "      <td>-0.535395</td>\n",
       "      <td>0.456392</td>\n",
       "      <td>0.511376</td>\n",
       "      <td>-0.546321</td>\n",
       "      <td>0</td>\n",
       "    </tr>\n",
       "    <tr>\n",
       "      <th>2</th>\n",
       "      <td>0</td>\n",
       "      <td>0</td>\n",
       "      <td>0</td>\n",
       "      <td>0</td>\n",
       "      <td>0</td>\n",
       "      <td>0</td>\n",
       "      <td>0</td>\n",
       "      <td>0</td>\n",
       "      <td>0</td>\n",
       "      <td>0</td>\n",
       "      <td>...</td>\n",
       "      <td>0.418906</td>\n",
       "      <td>0.473995</td>\n",
       "      <td>-0.265760</td>\n",
       "      <td>0.522702</td>\n",
       "      <td>0.544301</td>\n",
       "      <td>-0.413421</td>\n",
       "      <td>0.468693</td>\n",
       "      <td>0.546091</td>\n",
       "      <td>-0.427781</td>\n",
       "      <td>0</td>\n",
       "    </tr>\n",
       "    <tr>\n",
       "      <th>3</th>\n",
       "      <td>0</td>\n",
       "      <td>0</td>\n",
       "      <td>0</td>\n",
       "      <td>0</td>\n",
       "      <td>0</td>\n",
       "      <td>0</td>\n",
       "      <td>0</td>\n",
       "      <td>0</td>\n",
       "      <td>0</td>\n",
       "      <td>0</td>\n",
       "      <td>...</td>\n",
       "      <td>0.414890</td>\n",
       "      <td>0.437654</td>\n",
       "      <td>-0.311598</td>\n",
       "      <td>0.515444</td>\n",
       "      <td>0.511734</td>\n",
       "      <td>-0.539152</td>\n",
       "      <td>0.461784</td>\n",
       "      <td>0.510433</td>\n",
       "      <td>-0.550109</td>\n",
       "      <td>0</td>\n",
       "    </tr>\n",
       "    <tr>\n",
       "      <th>4</th>\n",
       "      <td>0</td>\n",
       "      <td>0</td>\n",
       "      <td>0</td>\n",
       "      <td>0</td>\n",
       "      <td>0</td>\n",
       "      <td>0</td>\n",
       "      <td>0</td>\n",
       "      <td>0</td>\n",
       "      <td>0</td>\n",
       "      <td>0</td>\n",
       "      <td>...</td>\n",
       "      <td>0.414313</td>\n",
       "      <td>0.444046</td>\n",
       "      <td>-0.254120</td>\n",
       "      <td>0.521943</td>\n",
       "      <td>0.512693</td>\n",
       "      <td>-0.498799</td>\n",
       "      <td>0.465716</td>\n",
       "      <td>0.513639</td>\n",
       "      <td>-0.500402</td>\n",
       "      <td>0</td>\n",
       "    </tr>\n",
       "    <tr>\n",
       "      <th>...</th>\n",
       "      <td>...</td>\n",
       "      <td>...</td>\n",
       "      <td>...</td>\n",
       "      <td>...</td>\n",
       "      <td>...</td>\n",
       "      <td>...</td>\n",
       "      <td>...</td>\n",
       "      <td>...</td>\n",
       "      <td>...</td>\n",
       "      <td>...</td>\n",
       "      <td>...</td>\n",
       "      <td>...</td>\n",
       "      <td>...</td>\n",
       "      <td>...</td>\n",
       "      <td>...</td>\n",
       "      <td>...</td>\n",
       "      <td>...</td>\n",
       "      <td>...</td>\n",
       "      <td>...</td>\n",
       "      <td>...</td>\n",
       "      <td>...</td>\n",
       "    </tr>\n",
       "    <tr>\n",
       "      <th>5495</th>\n",
       "      <td>0</td>\n",
       "      <td>0</td>\n",
       "      <td>0</td>\n",
       "      <td>0</td>\n",
       "      <td>0</td>\n",
       "      <td>0</td>\n",
       "      <td>0</td>\n",
       "      <td>0</td>\n",
       "      <td>0</td>\n",
       "      <td>0</td>\n",
       "      <td>...</td>\n",
       "      <td>0.393909</td>\n",
       "      <td>0.498741</td>\n",
       "      <td>-0.300793</td>\n",
       "      <td>0.494988</td>\n",
       "      <td>0.588853</td>\n",
       "      <td>-0.555222</td>\n",
       "      <td>0.435057</td>\n",
       "      <td>0.589883</td>\n",
       "      <td>-0.547133</td>\n",
       "      <td>10</td>\n",
       "    </tr>\n",
       "    <tr>\n",
       "      <th>5496</th>\n",
       "      <td>0</td>\n",
       "      <td>0</td>\n",
       "      <td>0</td>\n",
       "      <td>0</td>\n",
       "      <td>0</td>\n",
       "      <td>0</td>\n",
       "      <td>0</td>\n",
       "      <td>0</td>\n",
       "      <td>0</td>\n",
       "      <td>0</td>\n",
       "      <td>...</td>\n",
       "      <td>0.371475</td>\n",
       "      <td>0.442429</td>\n",
       "      <td>-0.439422</td>\n",
       "      <td>0.485862</td>\n",
       "      <td>0.539371</td>\n",
       "      <td>-0.707727</td>\n",
       "      <td>0.422799</td>\n",
       "      <td>0.544327</td>\n",
       "      <td>-0.707410</td>\n",
       "      <td>10</td>\n",
       "    </tr>\n",
       "    <tr>\n",
       "      <th>5497</th>\n",
       "      <td>0</td>\n",
       "      <td>0</td>\n",
       "      <td>0</td>\n",
       "      <td>0</td>\n",
       "      <td>0</td>\n",
       "      <td>0</td>\n",
       "      <td>0</td>\n",
       "      <td>0</td>\n",
       "      <td>0</td>\n",
       "      <td>0</td>\n",
       "      <td>...</td>\n",
       "      <td>0.378364</td>\n",
       "      <td>0.450481</td>\n",
       "      <td>-0.279801</td>\n",
       "      <td>0.487418</td>\n",
       "      <td>0.529737</td>\n",
       "      <td>-0.511982</td>\n",
       "      <td>0.425152</td>\n",
       "      <td>0.530001</td>\n",
       "      <td>-0.509610</td>\n",
       "      <td>10</td>\n",
       "    </tr>\n",
       "    <tr>\n",
       "      <th>5498</th>\n",
       "      <td>0</td>\n",
       "      <td>0</td>\n",
       "      <td>0</td>\n",
       "      <td>0</td>\n",
       "      <td>0</td>\n",
       "      <td>0</td>\n",
       "      <td>0</td>\n",
       "      <td>0</td>\n",
       "      <td>0</td>\n",
       "      <td>0</td>\n",
       "      <td>...</td>\n",
       "      <td>0.361799</td>\n",
       "      <td>0.416760</td>\n",
       "      <td>-0.327747</td>\n",
       "      <td>0.484884</td>\n",
       "      <td>0.507316</td>\n",
       "      <td>-0.610810</td>\n",
       "      <td>0.417177</td>\n",
       "      <td>0.512805</td>\n",
       "      <td>-0.597438</td>\n",
       "      <td>10</td>\n",
       "    </tr>\n",
       "    <tr>\n",
       "      <th>5499</th>\n",
       "      <td>0</td>\n",
       "      <td>0</td>\n",
       "      <td>0</td>\n",
       "      <td>0</td>\n",
       "      <td>0</td>\n",
       "      <td>0</td>\n",
       "      <td>0</td>\n",
       "      <td>0</td>\n",
       "      <td>0</td>\n",
       "      <td>0</td>\n",
       "      <td>...</td>\n",
       "      <td>0.369715</td>\n",
       "      <td>0.441118</td>\n",
       "      <td>-0.659632</td>\n",
       "      <td>0.503303</td>\n",
       "      <td>0.555348</td>\n",
       "      <td>-0.965179</td>\n",
       "      <td>0.434546</td>\n",
       "      <td>0.557918</td>\n",
       "      <td>-0.975494</td>\n",
       "      <td>10</td>\n",
       "    </tr>\n",
       "  </tbody>\n",
       "</table>\n",
       "<p>5500 rows × 160 columns</p>\n",
       "</div>"
      ],
      "text/plain": [
       "      0  1  2  3  4  5  6  7  8  9  ...       150       151       152  \\\n",
       "0     0  0  0  0  0  0  0  0  0  0  ...  0.414344  0.441436 -0.388483   \n",
       "1     0  0  0  0  0  0  0  0  0  0  ...  0.413644  0.435605 -0.348468   \n",
       "2     0  0  0  0  0  0  0  0  0  0  ...  0.418906  0.473995 -0.265760   \n",
       "3     0  0  0  0  0  0  0  0  0  0  ...  0.414890  0.437654 -0.311598   \n",
       "4     0  0  0  0  0  0  0  0  0  0  ...  0.414313  0.444046 -0.254120   \n",
       "...  .. .. .. .. .. .. .. .. .. ..  ...       ...       ...       ...   \n",
       "5495  0  0  0  0  0  0  0  0  0  0  ...  0.393909  0.498741 -0.300793   \n",
       "5496  0  0  0  0  0  0  0  0  0  0  ...  0.371475  0.442429 -0.439422   \n",
       "5497  0  0  0  0  0  0  0  0  0  0  ...  0.378364  0.450481 -0.279801   \n",
       "5498  0  0  0  0  0  0  0  0  0  0  ...  0.361799  0.416760 -0.327747   \n",
       "5499  0  0  0  0  0  0  0  0  0  0  ...  0.369715  0.441118 -0.659632   \n",
       "\n",
       "           153       154       155       156       157       158  label  \n",
       "0     0.520840  0.509255 -0.675579  0.465188  0.512263 -0.675106      0  \n",
       "1     0.503538  0.516863 -0.535395  0.456392  0.511376 -0.546321      0  \n",
       "2     0.522702  0.544301 -0.413421  0.468693  0.546091 -0.427781      0  \n",
       "3     0.515444  0.511734 -0.539152  0.461784  0.510433 -0.550109      0  \n",
       "4     0.521943  0.512693 -0.498799  0.465716  0.513639 -0.500402      0  \n",
       "...        ...       ...       ...       ...       ...       ...    ...  \n",
       "5495  0.494988  0.588853 -0.555222  0.435057  0.589883 -0.547133     10  \n",
       "5496  0.485862  0.539371 -0.707727  0.422799  0.544327 -0.707410     10  \n",
       "5497  0.487418  0.529737 -0.511982  0.425152  0.530001 -0.509610     10  \n",
       "5498  0.484884  0.507316 -0.610810  0.417177  0.512805 -0.597438     10  \n",
       "5499  0.503303  0.555348 -0.965179  0.434546  0.557918 -0.975494     10  \n",
       "\n",
       "[5500 rows x 160 columns]"
      ]
     },
     "execution_count": 8,
     "metadata": {},
     "output_type": "execute_result"
    }
   ],
   "source": [
    "df"
   ]
  },
  {
   "cell_type": "code",
   "execution_count": 9,
   "id": "0cf41ed3",
   "metadata": {},
   "outputs": [],
   "source": [
    "# merged_data.to_csv(\"../../data/merge_num_7_data.csv\", index=False)"
   ]
  },
  {
   "cell_type": "markdown",
   "id": "781b6580",
   "metadata": {},
   "source": [
    "# 데이터 불러오기"
   ]
  },
  {
   "cell_type": "code",
   "execution_count": 10,
   "id": "4af0d32f",
   "metadata": {},
   "outputs": [],
   "source": [
    "# import pandas as pd\n",
    "# df = pd.read_csv(\"../../data/merge_num_7_data.csv\")"
   ]
  },
  {
   "cell_type": "markdown",
   "id": "76c7a12a",
   "metadata": {},
   "source": [
    "## 클래스 확인"
   ]
  },
  {
   "cell_type": "code",
   "execution_count": 11,
   "id": "990df892",
   "metadata": {},
   "outputs": [
    {
     "data": {
      "text/plain": [
       "array([ 0,  1,  2,  3,  4,  5,  6,  7,  8,  9, 10], dtype=int64)"
      ]
     },
     "execution_count": 11,
     "metadata": {},
     "output_type": "execute_result"
    }
   ],
   "source": [
    "df['label'].unique()"
   ]
  },
  {
   "cell_type": "markdown",
   "id": "9e0b1b3e",
   "metadata": {},
   "source": [
    "## x, y 데이터"
   ]
  },
  {
   "cell_type": "code",
   "execution_count": 12,
   "id": "51e86416",
   "metadata": {},
   "outputs": [
    {
     "name": "stdout",
     "output_type": "stream",
     "text": [
      "(5500, 159) (5500,)\n"
     ]
    }
   ],
   "source": [
    "y = df['label']\n",
    "x = df.drop(['label'], axis=1)\n",
    "\n",
    "print(x.shape, y.shape)"
   ]
  },
  {
   "cell_type": "markdown",
   "id": "98fe61b3",
   "metadata": {},
   "source": [
    "# 데이터 전처리"
   ]
  },
  {
   "cell_type": "code",
   "execution_count": 13,
   "id": "f41d2df2",
   "metadata": {},
   "outputs": [
    {
     "name": "stdout",
     "output_type": "stream",
     "text": [
      "(5500, 63) (5500, 33) (5500,)\n"
     ]
    }
   ],
   "source": [
    "right_points_x = x.iloc[:, 63:63+63]\n",
    "face_points_x = x.iloc[:, 63+63:]\n",
    "nose_point_x = face_points_x.iloc[:, 0]\n",
    "print(right_points_x.shape, face_points_x.shape, nose_point_x.shape)"
   ]
  },
  {
   "cell_type": "code",
   "execution_count": 14,
   "id": "a7955dd8",
   "metadata": {},
   "outputs": [],
   "source": [
    "# angles_list = []\n",
    "# vector_list = []\n",
    "# face_hand_vector_list = []\n",
    "result = []\n",
    "for i in range(len(right_points_x)):\n",
    "    hand_row = right_points_x.iloc[i].tolist()\n",
    "    face_row = face_points_x.iloc[i].tolist()\n",
    "\n",
    "    data = get_landmark_data({\"Left\": [], \"Right\": hand_row, \"Face\": face_row}, mode = LANDMARK_MODE.ANGLE_VECTOR_CURV_FACE_NOSE)\n",
    "    result.append(data.reshape((-1)))\n",
    "\n",
    "result_x = pd.DataFrame(result)"
   ]
  },
  {
   "cell_type": "code",
   "execution_count": 15,
   "id": "b7075e07",
   "metadata": {},
   "outputs": [],
   "source": [
    "# result_x.to_csv(\"../../data/angle_vector_num_7_data.csv\", index=False)"
   ]
  },
  {
   "cell_type": "markdown",
   "id": "5ec66cd7",
   "metadata": {},
   "source": [
    "## 데이터 분할하기"
   ]
  },
  {
   "cell_type": "code",
   "execution_count": 16,
   "id": "95b107f0",
   "metadata": {},
   "outputs": [],
   "source": [
    "from sklearn.model_selection import train_test_split\n",
    "\n",
    "x_train, x_test, y_train, y_test = train_test_split(result_x, y, test_size=0.2, random_state=42, shuffle=True, stratify=y)"
   ]
  },
  {
   "cell_type": "markdown",
   "id": "ea9d9a02",
   "metadata": {},
   "source": [
    "## 데이터 스케일링"
   ]
  },
  {
   "cell_type": "code",
   "execution_count": 17,
   "id": "92a9b421",
   "metadata": {},
   "outputs": [],
   "source": [
    "# from sklearn.preprocessing import MinMaxScaler\n",
    "# mms = MinMaxScaler()\n",
    "# x_train = mms.fit_transform(x_train)\n",
    "# x_test = mms.transform(x_test)"
   ]
  },
  {
   "cell_type": "markdown",
   "id": "fa2e66cc",
   "metadata": {},
   "source": [
    "## 모델 학습"
   ]
  },
  {
   "cell_type": "code",
   "execution_count": 18,
   "id": "e23b975c",
   "metadata": {},
   "outputs": [
    {
     "name": "stdout",
     "output_type": "stream",
     "text": [
      "Accuracy: 98.55%\n"
     ]
    }
   ],
   "source": [
    "from xgboost import XGBClassifier\n",
    "from sklearn.ensemble import RandomForestClassifier\n",
    "from sklearn.linear_model import LogisticRegression\n",
    "import lightgbm as lgb\n",
    "import numpy as np\n",
    "\n",
    "# model = lgb.LGBMClassifier(n_estimators=300, random_state=42)\n",
    "model = XGBClassifier(n_estimators=200, max_depth=3, learning_rate=0.01)\n",
    "#model = RandomForestClassifier(n_estimators=300, max_depth=5, random_state=42)\n",
    "#model = LogisticRegression(solver='liblinear', max_iter=100)\n",
    "model.fit(x_train, y_train)\n",
    "\n",
    "score = model.score(x_test, y_test)\n",
    "\n",
    "print(f\"Accuracy: {np.round(score*100, 2)}%\")"
   ]
  },
  {
   "cell_type": "code",
   "execution_count": 19,
   "id": "a5e1029c",
   "metadata": {},
   "outputs": [
    {
     "name": "stdout",
     "output_type": "stream",
     "text": [
      "              precision    recall  f1-score   support\n",
      "\n",
      "           0       0.99      0.99      0.99       100\n",
      "           1       0.95      0.98      0.97       100\n",
      "           2       0.98      0.96      0.97       100\n",
      "           3       1.00      1.00      1.00       100\n",
      "           4       1.00      0.99      0.99       100\n",
      "           5       0.98      0.98      0.98       100\n",
      "           6       1.00      0.99      0.99       100\n",
      "           7       0.99      0.99      0.99       100\n",
      "           8       0.98      0.97      0.97       100\n",
      "           9       1.00      1.00      1.00       100\n",
      "          10       0.97      0.99      0.98       100\n",
      "\n",
      "    accuracy                           0.99      1100\n",
      "   macro avg       0.99      0.99      0.99      1100\n",
      "weighted avg       0.99      0.99      0.99      1100\n",
      "\n"
     ]
    }
   ],
   "source": [
    "from sklearn.metrics import classification_report\n",
    "\n",
    "y_pred = model.predict(x_test)\n",
    "print(classification_report(y_test, y_pred))"
   ]
  },
  {
   "cell_type": "markdown",
   "id": "738b153a",
   "metadata": {},
   "source": [
    "## 모델 저장하기"
   ]
  },
  {
   "cell_type": "code",
   "execution_count": 20,
   "id": "ac523eed",
   "metadata": {},
   "outputs": [
    {
     "data": {
      "text/plain": [
       "['../../models/xgb_sample_model.pkl']"
      ]
     },
     "execution_count": 20,
     "metadata": {},
     "output_type": "execute_result"
    }
   ],
   "source": [
    "import joblib\n",
    "\n",
    "joblib.dump(model, \"../../models/xgb_sample_model.pkl\")"
   ]
  },
  {
   "cell_type": "markdown",
   "id": "2fbabbbe",
   "metadata": {},
   "source": [
    "# 모델 로드"
   ]
  },
  {
   "cell_type": "code",
   "execution_count": 28,
   "id": "4ce2f7e8",
   "metadata": {},
   "outputs": [
    {
     "data": {
      "text/plain": [
       "array([ 0,  1,  2,  3,  4,  5,  6,  7,  8,  9, 10])"
      ]
     },
     "execution_count": 28,
     "metadata": {},
     "output_type": "execute_result"
    }
   ],
   "source": [
    "MODEL_PATH = \"../../models/xgb_sample_angle_vector_model.pkl\"\n",
    "model = joblib.load(MODEL_PATH)\n",
    "model.n_features_in_\n",
    "model.classes_"
   ]
  },
  {
   "cell_type": "code",
   "execution_count": null,
   "id": "f698b296",
   "metadata": {},
   "outputs": [
    {
     "data": {
      "text/plain": [
       "105"
      ]
     },
     "execution_count": 25,
     "metadata": {},
     "output_type": "execute_result"
    }
   ],
   "source": []
  }
 ],
 "metadata": {
  "kernelspec": {
   "display_name": "korean-sign-language-project (3.10.18)",
   "language": "python",
   "name": "python3"
  },
  "language_info": {
   "codemirror_mode": {
    "name": "ipython",
    "version": 3
   },
   "file_extension": ".py",
   "mimetype": "text/x-python",
   "name": "python",
   "nbconvert_exporter": "python",
   "pygments_lexer": "ipython3",
   "version": "3.10.18"
  }
 },
 "nbformat": 4,
 "nbformat_minor": 5
}

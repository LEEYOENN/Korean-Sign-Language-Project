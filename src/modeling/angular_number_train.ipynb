{
 "cells": [
  {
   "cell_type": "markdown",
   "id": "70280ac7",
   "metadata": {},
   "source": [
    "# import"
   ]
  },
  {
   "cell_type": "code",
   "execution_count": 128,
   "id": "783751df",
   "metadata": {},
   "outputs": [],
   "source": [
    "import pandas as pd\n",
    "\n",
    "# 보통 현재 작업 폴더(CWD)가 src 이므로 부모(프로젝트 루트)를 sys.path에 추가\n",
    "import sys, os\n",
    "from pathlib import Path\n",
    "\n",
    "ROOT = Path.cwd().parent\n",
    "if (ROOT / \"utils\").exists():\n",
    "    sys.path.insert(0, str(ROOT))\n",
    "else:\n",
    "    # 혹시 구조가 더 깊을 때 대비\n",
    "    ROOT2 = ROOT.parent\n",
    "    if (ROOT2 / \"utils\").exists():\n",
    "        sys.path.insert(0, str(ROOT2))\n",
    "\n",
    "from utils.angular_util import compute_joint_angles, compute_connected_unit_vectors, flatten_vectors, compute_face_hand_vectors"
   ]
  },
  {
   "cell_type": "markdown",
   "id": "17f2378a",
   "metadata": {},
   "source": [
    "## 수집한 데이터 합치기"
   ]
  },
  {
   "cell_type": "code",
   "execution_count": 129,
   "id": "14f9e039",
   "metadata": {},
   "outputs": [],
   "source": [
    "HAND_COUNT = 21 * 3\n",
    "POSE_COUNT = 11 * 3"
   ]
  },
  {
   "cell_type": "markdown",
   "id": "394cfb33",
   "metadata": {},
   "source": [
    "## 헤더 추가\n",
    "🚨 주의!!!! 이미 헤더가 있는 경우 또 추가될 수 있음!"
   ]
  },
  {
   "cell_type": "code",
   "execution_count": 130,
   "id": "b2a657f4",
   "metadata": {},
   "outputs": [],
   "source": [
    "# for i in range(7, 8):\n",
    "#     data = pd.read_csv(f\"../../data/sign_data/sign_data_{i}.csv\")\n",
    "    # data.insert(0, 'label', [i] * len(data))\n",
    "    # columns = [i for i in range(len(data.columns) - 1)]\n",
    "    # columns.insert(0, 'label')\n",
    "    # data.columns = columns\n",
    "    # data.to_csv(f\"../../data/sign_data/sign_data_{i}.csv\", index=False)"
   ]
  },
  {
   "cell_type": "code",
   "execution_count": 131,
   "id": "d8c14a50",
   "metadata": {},
   "outputs": [],
   "source": [
    "# i = 5\n",
    "# data = pd.read_csv(f\"../../data/sign_data/sign_data_{i}.csv\", index_col=False)\n",
    "# data.loc[:, 'label'] = i\n",
    "# data.to_csv(f\"../../data/sign_data/sign_data_{i}.csv\", index=False)"
   ]
  },
  {
   "cell_type": "markdown",
   "id": "7be7356a",
   "metadata": {},
   "source": [
    "## 병합"
   ]
  },
  {
   "cell_type": "code",
   "execution_count": 132,
   "id": "55c0818d",
   "metadata": {},
   "outputs": [
    {
     "name": "stdout",
     "output_type": "stream",
     "text": [
      "0\n",
      "1\n",
      "2\n",
      "3\n",
      "4\n",
      "5\n",
      "6\n",
      "14\n",
      "15\n"
     ]
    }
   ],
   "source": [
    "merged_data = pd.DataFrame()\n",
    "\n",
    "for i, label in enumerate([0, 1, 2, 3, 4, 5, 6, 14, 15]):\n",
    "    print(label)\n",
    "    data = pd.read_csv(f\"../../data/sign_data/sign_data_{label}.csv\", index_col=False)\n",
    "    data = data.drop(['label'], axis=1)\n",
    "    data.loc[:, 'label'] = i\n",
    "    data = data.sample(n = 300, replace=False)\n",
    "    merged_data = pd.concat([merged_data, data], ignore_index=True)\n",
    "\n",
    "df = merged_data"
   ]
  },
  {
   "cell_type": "code",
   "execution_count": 133,
   "id": "e839643c",
   "metadata": {},
   "outputs": [
    {
     "data": {
      "text/html": [
       "<div>\n",
       "<style scoped>\n",
       "    .dataframe tbody tr th:only-of-type {\n",
       "        vertical-align: middle;\n",
       "    }\n",
       "\n",
       "    .dataframe tbody tr th {\n",
       "        vertical-align: top;\n",
       "    }\n",
       "\n",
       "    .dataframe thead th {\n",
       "        text-align: right;\n",
       "    }\n",
       "</style>\n",
       "<table border=\"1\" class=\"dataframe\">\n",
       "  <thead>\n",
       "    <tr style=\"text-align: right;\">\n",
       "      <th></th>\n",
       "      <th>0</th>\n",
       "      <th>1</th>\n",
       "      <th>2</th>\n",
       "      <th>3</th>\n",
       "      <th>4</th>\n",
       "      <th>5</th>\n",
       "      <th>6</th>\n",
       "      <th>7</th>\n",
       "      <th>8</th>\n",
       "      <th>9</th>\n",
       "      <th>...</th>\n",
       "      <th>150</th>\n",
       "      <th>151</th>\n",
       "      <th>152</th>\n",
       "      <th>153</th>\n",
       "      <th>154</th>\n",
       "      <th>155</th>\n",
       "      <th>156</th>\n",
       "      <th>157</th>\n",
       "      <th>158</th>\n",
       "      <th>label</th>\n",
       "    </tr>\n",
       "  </thead>\n",
       "  <tbody>\n",
       "    <tr>\n",
       "      <th>0</th>\n",
       "      <td>0.0</td>\n",
       "      <td>0.0</td>\n",
       "      <td>0.0</td>\n",
       "      <td>0.0</td>\n",
       "      <td>0.0</td>\n",
       "      <td>0.0</td>\n",
       "      <td>0.0</td>\n",
       "      <td>0.0</td>\n",
       "      <td>0.0</td>\n",
       "      <td>0.0</td>\n",
       "      <td>...</td>\n",
       "      <td>0.415358</td>\n",
       "      <td>0.449882</td>\n",
       "      <td>-0.371466</td>\n",
       "      <td>0.517967</td>\n",
       "      <td>0.521554</td>\n",
       "      <td>-0.584618</td>\n",
       "      <td>0.465842</td>\n",
       "      <td>0.521171</td>\n",
       "      <td>-0.599782</td>\n",
       "      <td>0</td>\n",
       "    </tr>\n",
       "    <tr>\n",
       "      <th>1</th>\n",
       "      <td>0.0</td>\n",
       "      <td>0.0</td>\n",
       "      <td>0.0</td>\n",
       "      <td>0.0</td>\n",
       "      <td>0.0</td>\n",
       "      <td>0.0</td>\n",
       "      <td>0.0</td>\n",
       "      <td>0.0</td>\n",
       "      <td>0.0</td>\n",
       "      <td>0.0</td>\n",
       "      <td>...</td>\n",
       "      <td>0.423235</td>\n",
       "      <td>0.440197</td>\n",
       "      <td>-0.408951</td>\n",
       "      <td>0.523118</td>\n",
       "      <td>0.503770</td>\n",
       "      <td>-0.643523</td>\n",
       "      <td>0.469722</td>\n",
       "      <td>0.508288</td>\n",
       "      <td>-0.654466</td>\n",
       "      <td>0</td>\n",
       "    </tr>\n",
       "    <tr>\n",
       "      <th>2</th>\n",
       "      <td>0.0</td>\n",
       "      <td>0.0</td>\n",
       "      <td>0.0</td>\n",
       "      <td>0.0</td>\n",
       "      <td>0.0</td>\n",
       "      <td>0.0</td>\n",
       "      <td>0.0</td>\n",
       "      <td>0.0</td>\n",
       "      <td>0.0</td>\n",
       "      <td>0.0</td>\n",
       "      <td>...</td>\n",
       "      <td>0.408610</td>\n",
       "      <td>0.483198</td>\n",
       "      <td>-0.239360</td>\n",
       "      <td>0.507468</td>\n",
       "      <td>0.557231</td>\n",
       "      <td>-0.439302</td>\n",
       "      <td>0.453750</td>\n",
       "      <td>0.559657</td>\n",
       "      <td>-0.436142</td>\n",
       "      <td>0</td>\n",
       "    </tr>\n",
       "    <tr>\n",
       "      <th>3</th>\n",
       "      <td>0.0</td>\n",
       "      <td>0.0</td>\n",
       "      <td>0.0</td>\n",
       "      <td>0.0</td>\n",
       "      <td>0.0</td>\n",
       "      <td>0.0</td>\n",
       "      <td>0.0</td>\n",
       "      <td>0.0</td>\n",
       "      <td>0.0</td>\n",
       "      <td>0.0</td>\n",
       "      <td>...</td>\n",
       "      <td>0.421941</td>\n",
       "      <td>0.478865</td>\n",
       "      <td>-0.273370</td>\n",
       "      <td>0.520912</td>\n",
       "      <td>0.559256</td>\n",
       "      <td>-0.511614</td>\n",
       "      <td>0.465992</td>\n",
       "      <td>0.563108</td>\n",
       "      <td>-0.509202</td>\n",
       "      <td>0</td>\n",
       "    </tr>\n",
       "    <tr>\n",
       "      <th>4</th>\n",
       "      <td>0.0</td>\n",
       "      <td>0.0</td>\n",
       "      <td>0.0</td>\n",
       "      <td>0.0</td>\n",
       "      <td>0.0</td>\n",
       "      <td>0.0</td>\n",
       "      <td>0.0</td>\n",
       "      <td>0.0</td>\n",
       "      <td>0.0</td>\n",
       "      <td>0.0</td>\n",
       "      <td>...</td>\n",
       "      <td>0.411952</td>\n",
       "      <td>0.441850</td>\n",
       "      <td>-0.484557</td>\n",
       "      <td>0.508371</td>\n",
       "      <td>0.512288</td>\n",
       "      <td>-0.730711</td>\n",
       "      <td>0.458071</td>\n",
       "      <td>0.508907</td>\n",
       "      <td>-0.741444</td>\n",
       "      <td>0</td>\n",
       "    </tr>\n",
       "    <tr>\n",
       "      <th>...</th>\n",
       "      <td>...</td>\n",
       "      <td>...</td>\n",
       "      <td>...</td>\n",
       "      <td>...</td>\n",
       "      <td>...</td>\n",
       "      <td>...</td>\n",
       "      <td>...</td>\n",
       "      <td>...</td>\n",
       "      <td>...</td>\n",
       "      <td>...</td>\n",
       "      <td>...</td>\n",
       "      <td>...</td>\n",
       "      <td>...</td>\n",
       "      <td>...</td>\n",
       "      <td>...</td>\n",
       "      <td>...</td>\n",
       "      <td>...</td>\n",
       "      <td>...</td>\n",
       "      <td>...</td>\n",
       "      <td>...</td>\n",
       "      <td>...</td>\n",
       "    </tr>\n",
       "    <tr>\n",
       "      <th>2695</th>\n",
       "      <td>0.0</td>\n",
       "      <td>0.0</td>\n",
       "      <td>0.0</td>\n",
       "      <td>0.0</td>\n",
       "      <td>0.0</td>\n",
       "      <td>0.0</td>\n",
       "      <td>0.0</td>\n",
       "      <td>0.0</td>\n",
       "      <td>0.0</td>\n",
       "      <td>0.0</td>\n",
       "      <td>...</td>\n",
       "      <td>0.482557</td>\n",
       "      <td>0.518437</td>\n",
       "      <td>-0.940851</td>\n",
       "      <td>0.637055</td>\n",
       "      <td>0.646274</td>\n",
       "      <td>-1.320883</td>\n",
       "      <td>0.559788</td>\n",
       "      <td>0.650357</td>\n",
       "      <td>NaN</td>\n",
       "      <td>8</td>\n",
       "    </tr>\n",
       "    <tr>\n",
       "      <th>2696</th>\n",
       "      <td>0.0</td>\n",
       "      <td>0.0</td>\n",
       "      <td>0.0</td>\n",
       "      <td>0.0</td>\n",
       "      <td>0.0</td>\n",
       "      <td>0.0</td>\n",
       "      <td>0.0</td>\n",
       "      <td>0.0</td>\n",
       "      <td>0.0</td>\n",
       "      <td>0.0</td>\n",
       "      <td>...</td>\n",
       "      <td>0.335127</td>\n",
       "      <td>0.558954</td>\n",
       "      <td>-0.920506</td>\n",
       "      <td>0.477018</td>\n",
       "      <td>0.639897</td>\n",
       "      <td>-1.257218</td>\n",
       "      <td>0.414909</td>\n",
       "      <td>0.649236</td>\n",
       "      <td>NaN</td>\n",
       "      <td>8</td>\n",
       "    </tr>\n",
       "    <tr>\n",
       "      <th>2697</th>\n",
       "      <td>0.0</td>\n",
       "      <td>0.0</td>\n",
       "      <td>0.0</td>\n",
       "      <td>0.0</td>\n",
       "      <td>0.0</td>\n",
       "      <td>0.0</td>\n",
       "      <td>0.0</td>\n",
       "      <td>0.0</td>\n",
       "      <td>0.0</td>\n",
       "      <td>0.0</td>\n",
       "      <td>...</td>\n",
       "      <td>0.321588</td>\n",
       "      <td>0.384180</td>\n",
       "      <td>-1.380313</td>\n",
       "      <td>0.476797</td>\n",
       "      <td>0.496747</td>\n",
       "      <td>-1.730446</td>\n",
       "      <td>0.400312</td>\n",
       "      <td>0.503459</td>\n",
       "      <td>NaN</td>\n",
       "      <td>8</td>\n",
       "    </tr>\n",
       "    <tr>\n",
       "      <th>2698</th>\n",
       "      <td>0.0</td>\n",
       "      <td>0.0</td>\n",
       "      <td>0.0</td>\n",
       "      <td>0.0</td>\n",
       "      <td>0.0</td>\n",
       "      <td>0.0</td>\n",
       "      <td>0.0</td>\n",
       "      <td>0.0</td>\n",
       "      <td>0.0</td>\n",
       "      <td>0.0</td>\n",
       "      <td>...</td>\n",
       "      <td>0.564278</td>\n",
       "      <td>0.397670</td>\n",
       "      <td>-0.481917</td>\n",
       "      <td>0.699580</td>\n",
       "      <td>0.504381</td>\n",
       "      <td>-0.784367</td>\n",
       "      <td>0.637758</td>\n",
       "      <td>0.498398</td>\n",
       "      <td>NaN</td>\n",
       "      <td>8</td>\n",
       "    </tr>\n",
       "    <tr>\n",
       "      <th>2699</th>\n",
       "      <td>0.0</td>\n",
       "      <td>0.0</td>\n",
       "      <td>0.0</td>\n",
       "      <td>0.0</td>\n",
       "      <td>0.0</td>\n",
       "      <td>0.0</td>\n",
       "      <td>0.0</td>\n",
       "      <td>0.0</td>\n",
       "      <td>0.0</td>\n",
       "      <td>0.0</td>\n",
       "      <td>...</td>\n",
       "      <td>0.367576</td>\n",
       "      <td>0.333260</td>\n",
       "      <td>-0.669463</td>\n",
       "      <td>0.520640</td>\n",
       "      <td>0.435228</td>\n",
       "      <td>-1.078116</td>\n",
       "      <td>0.448424</td>\n",
       "      <td>0.441455</td>\n",
       "      <td>NaN</td>\n",
       "      <td>8</td>\n",
       "    </tr>\n",
       "  </tbody>\n",
       "</table>\n",
       "<p>2700 rows × 160 columns</p>\n",
       "</div>"
      ],
      "text/plain": [
       "        0    1    2    3    4    5    6    7    8    9  ...       150  \\\n",
       "0     0.0  0.0  0.0  0.0  0.0  0.0  0.0  0.0  0.0  0.0  ...  0.415358   \n",
       "1     0.0  0.0  0.0  0.0  0.0  0.0  0.0  0.0  0.0  0.0  ...  0.423235   \n",
       "2     0.0  0.0  0.0  0.0  0.0  0.0  0.0  0.0  0.0  0.0  ...  0.408610   \n",
       "3     0.0  0.0  0.0  0.0  0.0  0.0  0.0  0.0  0.0  0.0  ...  0.421941   \n",
       "4     0.0  0.0  0.0  0.0  0.0  0.0  0.0  0.0  0.0  0.0  ...  0.411952   \n",
       "...   ...  ...  ...  ...  ...  ...  ...  ...  ...  ...  ...       ...   \n",
       "2695  0.0  0.0  0.0  0.0  0.0  0.0  0.0  0.0  0.0  0.0  ...  0.482557   \n",
       "2696  0.0  0.0  0.0  0.0  0.0  0.0  0.0  0.0  0.0  0.0  ...  0.335127   \n",
       "2697  0.0  0.0  0.0  0.0  0.0  0.0  0.0  0.0  0.0  0.0  ...  0.321588   \n",
       "2698  0.0  0.0  0.0  0.0  0.0  0.0  0.0  0.0  0.0  0.0  ...  0.564278   \n",
       "2699  0.0  0.0  0.0  0.0  0.0  0.0  0.0  0.0  0.0  0.0  ...  0.367576   \n",
       "\n",
       "           151       152       153       154       155       156       157  \\\n",
       "0     0.449882 -0.371466  0.517967  0.521554 -0.584618  0.465842  0.521171   \n",
       "1     0.440197 -0.408951  0.523118  0.503770 -0.643523  0.469722  0.508288   \n",
       "2     0.483198 -0.239360  0.507468  0.557231 -0.439302  0.453750  0.559657   \n",
       "3     0.478865 -0.273370  0.520912  0.559256 -0.511614  0.465992  0.563108   \n",
       "4     0.441850 -0.484557  0.508371  0.512288 -0.730711  0.458071  0.508907   \n",
       "...        ...       ...       ...       ...       ...       ...       ...   \n",
       "2695  0.518437 -0.940851  0.637055  0.646274 -1.320883  0.559788  0.650357   \n",
       "2696  0.558954 -0.920506  0.477018  0.639897 -1.257218  0.414909  0.649236   \n",
       "2697  0.384180 -1.380313  0.476797  0.496747 -1.730446  0.400312  0.503459   \n",
       "2698  0.397670 -0.481917  0.699580  0.504381 -0.784367  0.637758  0.498398   \n",
       "2699  0.333260 -0.669463  0.520640  0.435228 -1.078116  0.448424  0.441455   \n",
       "\n",
       "           158  label  \n",
       "0    -0.599782      0  \n",
       "1    -0.654466      0  \n",
       "2    -0.436142      0  \n",
       "3    -0.509202      0  \n",
       "4    -0.741444      0  \n",
       "...        ...    ...  \n",
       "2695       NaN      8  \n",
       "2696       NaN      8  \n",
       "2697       NaN      8  \n",
       "2698       NaN      8  \n",
       "2699       NaN      8  \n",
       "\n",
       "[2700 rows x 160 columns]"
      ]
     },
     "execution_count": 133,
     "metadata": {},
     "output_type": "execute_result"
    }
   ],
   "source": [
    "df"
   ]
  },
  {
   "cell_type": "code",
   "execution_count": 134,
   "id": "0cf41ed3",
   "metadata": {},
   "outputs": [],
   "source": [
    "# merged_data.to_csv(\"../../data/merge_num_7_data.csv\", index=False)"
   ]
  },
  {
   "cell_type": "markdown",
   "id": "781b6580",
   "metadata": {},
   "source": [
    "## 데이터 불러오기"
   ]
  },
  {
   "cell_type": "code",
   "execution_count": 135,
   "id": "4af0d32f",
   "metadata": {},
   "outputs": [],
   "source": [
    "# import pandas as pd\n",
    "# df = pd.read_csv(\"../../data/merge_num_7_data.csv\")"
   ]
  },
  {
   "cell_type": "markdown",
   "id": "76c7a12a",
   "metadata": {},
   "source": [
    "## 클래스 확인"
   ]
  },
  {
   "cell_type": "code",
   "execution_count": 136,
   "id": "990df892",
   "metadata": {},
   "outputs": [
    {
     "data": {
      "text/plain": [
       "array([0, 1, 2, 3, 4, 5, 6, 7, 8], dtype=int64)"
      ]
     },
     "execution_count": 136,
     "metadata": {},
     "output_type": "execute_result"
    }
   ],
   "source": [
    "df['label'].unique()"
   ]
  },
  {
   "cell_type": "markdown",
   "id": "9e0b1b3e",
   "metadata": {},
   "source": [
    "## x, y 데이터"
   ]
  },
  {
   "cell_type": "code",
   "execution_count": 137,
   "id": "51e86416",
   "metadata": {},
   "outputs": [
    {
     "name": "stdout",
     "output_type": "stream",
     "text": [
      "(2700, 159) (2700,)\n"
     ]
    }
   ],
   "source": [
    "y = df['label']\n",
    "x = df.drop(['label'], axis=1)\n",
    "\n",
    "print(x.shape, y.shape)"
   ]
  },
  {
   "cell_type": "markdown",
   "id": "98fe61b3",
   "metadata": {},
   "source": [
    "# 데이터 전처리"
   ]
  },
  {
   "cell_type": "code",
   "execution_count": 138,
   "id": "f41d2df2",
   "metadata": {},
   "outputs": [
    {
     "name": "stdout",
     "output_type": "stream",
     "text": [
      "(2700, 63) (2700, 33) (2700,)\n"
     ]
    }
   ],
   "source": [
    "right_points_x = x.iloc[:, 63:63+63]\n",
    "face_points_x = x.iloc[:, 63+63:]\n",
    "nose_point_x = face_points_x.iloc[:, 0]\n",
    "print(right_points_x.shape, face_points_x.shape, nose_point_x.shape)"
   ]
  },
  {
   "cell_type": "code",
   "execution_count": 139,
   "id": "a7955dd8",
   "metadata": {},
   "outputs": [
    {
     "name": "stdout",
     "output_type": "stream",
     "text": [
      "15 72\n",
      "(2700, 15) (2700, 72) (2700, 54)\n"
     ]
    }
   ],
   "source": [
    "angles_list = []\n",
    "vector_list = []\n",
    "face_hand_vector_list = []\n",
    "for i in range(len(right_points_x)):\n",
    "    hand_row = right_points_x.iloc[i].tolist()\n",
    "    face_row = face_points_x.iloc[i].tolist()\n",
    "    angles, _, _ = compute_joint_angles(hand_row)\n",
    "    angles_list.append(angles)\n",
    "\n",
    "    _, _, vector = compute_connected_unit_vectors(hand_row, return_flat=True)\n",
    "    vector_list.append(vector)\n",
    "\n",
    "    _, _, face_hand_vector = compute_face_hand_vectors(face_row, hand_row)\n",
    "    face_hand_vector_list.append(face_hand_vector)\n",
    "\n",
    "print(len(angles_list[0]), len(vector_list[0]))\n",
    "\n",
    "angular_x = pd.DataFrame(angles_list, columns=None)\n",
    "vector_x = pd.DataFrame(vector_list, columns=None)\n",
    "face_hand_vector_x = pd.DataFrame(face_hand_vector_list, columns=None)\n",
    "\n",
    "print(angular_x.shape, vector_x.shape, face_hand_vector_x.shape)"
   ]
  },
  {
   "cell_type": "code",
   "execution_count": 140,
   "id": "610ed96e",
   "metadata": {},
   "outputs": [
    {
     "name": "stdout",
     "output_type": "stream",
     "text": [
      "(2700, 141)\n"
     ]
    }
   ],
   "source": [
    "result_x = pd.concat([angular_x, vector_x, face_hand_vector_x], axis=1)\n",
    "result_x.columns = range(len(result_x.columns))\n",
    "\n",
    "print(result_x.shape)"
   ]
  },
  {
   "cell_type": "code",
   "execution_count": 141,
   "id": "b7075e07",
   "metadata": {},
   "outputs": [],
   "source": [
    "# result_x.to_csv(\"../../data/angle_vector_num_7_data.csv\", index=False)"
   ]
  },
  {
   "cell_type": "markdown",
   "id": "5ec66cd7",
   "metadata": {},
   "source": [
    "## 데이터 분할하기"
   ]
  },
  {
   "cell_type": "code",
   "execution_count": 142,
   "id": "95b107f0",
   "metadata": {},
   "outputs": [],
   "source": [
    "from sklearn.model_selection import train_test_split\n",
    "\n",
    "x_train, x_test, y_train, y_test = train_test_split(result_x, y, test_size=0.2, random_state=42, shuffle=True, stratify=y)"
   ]
  },
  {
   "cell_type": "markdown",
   "id": "ea9d9a02",
   "metadata": {},
   "source": [
    "## 데이터 스케일링"
   ]
  },
  {
   "cell_type": "code",
   "execution_count": 143,
   "id": "92a9b421",
   "metadata": {},
   "outputs": [],
   "source": [
    "# from sklearn.preprocessing import MinMaxScaler\n",
    "# mms = MinMaxScaler()\n",
    "# x_train = mms.fit_transform(x_train)\n",
    "# x_test = mms.transform(x_test)"
   ]
  },
  {
   "cell_type": "markdown",
   "id": "fa2e66cc",
   "metadata": {},
   "source": [
    "## 모델 학습"
   ]
  },
  {
   "cell_type": "code",
   "execution_count": 144,
   "id": "e23b975c",
   "metadata": {},
   "outputs": [
    {
     "name": "stdout",
     "output_type": "stream",
     "text": [
      "Accuracy: 98.89%\n"
     ]
    }
   ],
   "source": [
    "from xgboost import XGBClassifier\n",
    "from sklearn.ensemble import RandomForestClassifier\n",
    "from sklearn.linear_model import LogisticRegression\n",
    "import numpy as np\n",
    "\n",
    "model = XGBClassifier(n_estimators=200, max_depth=3, learning_rate=0.01)\n",
    "#model = RandomForestClassifier(n_estimators=300, max_depth=5, random_state=42)\n",
    "#model = LogisticRegression(solver='liblinear', max_iter=100)\n",
    "model.fit(x_train, y_train)\n",
    "\n",
    "score = model.score(x_test, y_test)\n",
    "\n",
    "print(f\"Accuracy: {np.round(score*100, 2)}%\")"
   ]
  },
  {
   "cell_type": "code",
   "execution_count": 145,
   "id": "a5e1029c",
   "metadata": {},
   "outputs": [
    {
     "name": "stdout",
     "output_type": "stream",
     "text": [
      "              precision    recall  f1-score   support\n",
      "\n",
      "           0       0.98      0.98      0.98        60\n",
      "           1       0.97      0.98      0.98        60\n",
      "           2       0.98      0.95      0.97        60\n",
      "           3       0.98      1.00      0.99        60\n",
      "           4       1.00      1.00      1.00        60\n",
      "           5       1.00      1.00      1.00        60\n",
      "           6       1.00      1.00      1.00        60\n",
      "           7       0.98      0.98      0.98        60\n",
      "           8       1.00      1.00      1.00        60\n",
      "\n",
      "    accuracy                           0.99       540\n",
      "   macro avg       0.99      0.99      0.99       540\n",
      "weighted avg       0.99      0.99      0.99       540\n",
      "\n"
     ]
    }
   ],
   "source": [
    "from sklearn.metrics import classification_report\n",
    "\n",
    "y_pred = model.predict(x_test)\n",
    "print(classification_report(y_test, y_pred))\n"
   ]
  },
  {
   "cell_type": "markdown",
   "id": "738b153a",
   "metadata": {},
   "source": [
    "## 모델 저장하기"
   ]
  },
  {
   "cell_type": "code",
   "execution_count": 146,
   "id": "ac523eed",
   "metadata": {},
   "outputs": [
    {
     "data": {
      "text/plain": [
       "['../../models/xgb_sample_angle_vector_model.pkl']"
      ]
     },
     "execution_count": 146,
     "metadata": {},
     "output_type": "execute_result"
    }
   ],
   "source": [
    "import joblib\n",
    "\n",
    "joblib.dump(model, \"../../models/xgb_sample_angle_vector_model.pkl\")"
   ]
  }
 ],
 "metadata": {
  "kernelspec": {
   "display_name": "korean-sign-language-project (3.10.18)",
   "language": "python",
   "name": "python3"
  },
  "language_info": {
   "codemirror_mode": {
    "name": "ipython",
    "version": 3
   },
   "file_extension": ".py",
   "mimetype": "text/x-python",
   "name": "python",
   "nbconvert_exporter": "python",
   "pygments_lexer": "ipython3",
   "version": "3.10.18"
  }
 },
 "nbformat": 4,
 "nbformat_minor": 5
}

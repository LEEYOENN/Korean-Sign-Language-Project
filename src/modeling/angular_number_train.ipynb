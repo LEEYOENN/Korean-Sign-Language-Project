{
 "cells": [
  {
   "cell_type": "markdown",
   "id": "70280ac7",
   "metadata": {},
   "source": [
    "# import"
   ]
  },
  {
   "cell_type": "code",
   "execution_count": 288,
   "id": "783751df",
   "metadata": {},
   "outputs": [],
   "source": [
    "import pandas as pd\n",
    "\n",
    "# 보통 현재 작업 폴더(CWD)가 src 이므로 부모(프로젝트 루트)를 sys.path에 추가\n",
    "import sys, os\n",
    "from pathlib import Path\n",
    "\n",
    "ROOT = Path.cwd().parent\n",
    "if (ROOT / \"utils\").exists():\n",
    "    sys.path.insert(0, str(ROOT))\n",
    "else:\n",
    "    # 혹시 구조가 더 깊을 때 대비\n",
    "    ROOT2 = ROOT.parent\n",
    "    if (ROOT2 / \"utils\").exists():\n",
    "        sys.path.insert(0, str(ROOT2))\n",
    "\n",
    "from utils.angular_util import compute_joint_angles, compute_connected_unit_vectors, flatten_vectors"
   ]
  },
  {
   "cell_type": "markdown",
   "id": "17f2378a",
   "metadata": {},
   "source": [
    "## 수집한 데이터 합치기"
   ]
  },
  {
   "cell_type": "code",
   "execution_count": 289,
   "id": "14f9e039",
   "metadata": {},
   "outputs": [],
   "source": [
    "HAND_COUNT = 21 * 3\n",
    "POSE_COUNT = 11 * 3"
   ]
  },
  {
   "cell_type": "markdown",
   "id": "394cfb33",
   "metadata": {},
   "source": [
    "## 헤더 추가\n",
    "🚨 주의!!!! 이미 헤더가 있는 경우 또 추가될 수 있음!"
   ]
  },
  {
   "cell_type": "code",
   "execution_count": 290,
   "id": "b2a657f4",
   "metadata": {},
   "outputs": [],
   "source": [
    "# for i in range(7, 8):\n",
    "#     data = pd.read_csv(f\"../../data/sign_data/sign_data_{i}.csv\")\n",
    "    # data.insert(0, 'label', [i] * len(data))\n",
    "    # columns = [i for i in range(len(data.columns) - 1)]\n",
    "    # columns.insert(0, 'label')\n",
    "    # data.columns = columns\n",
    "    # data.to_csv(f\"../../data/sign_data/sign_data_{i}.csv\", index=False)"
   ]
  },
  {
   "cell_type": "code",
   "execution_count": 291,
   "id": "d8c14a50",
   "metadata": {},
   "outputs": [],
   "source": [
    "# i = 5\n",
    "# data = pd.read_csv(f\"../../data/sign_data/sign_data_{i}.csv\", index_col=False)\n",
    "# data.loc[:, 'label'] = i\n",
    "# data.to_csv(f\"../../data/sign_data/sign_data_{i}.csv\", index=False)"
   ]
  },
  {
   "cell_type": "markdown",
   "id": "7be7356a",
   "metadata": {},
   "source": [
    "## 병합"
   ]
  },
  {
   "cell_type": "code",
   "execution_count": 292,
   "id": "55c0818d",
   "metadata": {},
   "outputs": [
    {
     "name": "stdout",
     "output_type": "stream",
     "text": [
      "0\n",
      "1\n",
      "2\n",
      "3\n",
      "4\n",
      "5\n",
      "6\n",
      "14\n"
     ]
    }
   ],
   "source": [
    "merged_data = pd.DataFrame()\n",
    "\n",
    "for i, label in enumerate([0, 1, 2, 3, 4, 5, 6, 14]):\n",
    "    print(label)\n",
    "    data = pd.read_csv(f\"../../data/sign_data/sign_data_{label}.csv\", index_col=False)\n",
    "    data = data.drop(['label'], axis=1)\n",
    "    data.loc[:, 'label'] = i\n",
    "    data = data.sample(n = 500, replace=False)\n",
    "    merged_data = pd.concat([merged_data, data], ignore_index=True)\n",
    "\n",
    "df = merged_data"
   ]
  },
  {
   "cell_type": "code",
   "execution_count": 293,
   "id": "0cf41ed3",
   "metadata": {},
   "outputs": [],
   "source": [
    "# merged_data.to_csv(\"../../data/merge_num_7_data.csv\", index=False)"
   ]
  },
  {
   "cell_type": "markdown",
   "id": "781b6580",
   "metadata": {},
   "source": [
    "## 데이터 불러오기"
   ]
  },
  {
   "cell_type": "code",
   "execution_count": 294,
   "id": "4af0d32f",
   "metadata": {},
   "outputs": [],
   "source": [
    "# import pandas as pd\n",
    "# df = pd.read_csv(\"../../data/merge_num_7_data.csv\")"
   ]
  },
  {
   "cell_type": "markdown",
   "id": "76c7a12a",
   "metadata": {},
   "source": [
    "## 클래스 확인"
   ]
  },
  {
   "cell_type": "code",
   "execution_count": 295,
   "id": "990df892",
   "metadata": {},
   "outputs": [
    {
     "data": {
      "text/plain": [
       "array([0, 1, 2, 3, 4, 5, 6, 7], dtype=int64)"
      ]
     },
     "execution_count": 295,
     "metadata": {},
     "output_type": "execute_result"
    }
   ],
   "source": [
    "df['label'].unique()"
   ]
  },
  {
   "cell_type": "markdown",
   "id": "9e0b1b3e",
   "metadata": {},
   "source": [
    "## x, y 데이터"
   ]
  },
  {
   "cell_type": "code",
   "execution_count": 296,
   "id": "51e86416",
   "metadata": {},
   "outputs": [
    {
     "name": "stdout",
     "output_type": "stream",
     "text": [
      "(4000, 159) (4000,)\n"
     ]
    }
   ],
   "source": [
    "y = df['label']\n",
    "x = df.drop(['label'], axis=1)\n",
    "\n",
    "print(x.shape, y.shape)"
   ]
  },
  {
   "cell_type": "markdown",
   "id": "98fe61b3",
   "metadata": {},
   "source": [
    "# 데이터 전처리"
   ]
  },
  {
   "cell_type": "code",
   "execution_count": 297,
   "id": "f41d2df2",
   "metadata": {},
   "outputs": [
    {
     "name": "stdout",
     "output_type": "stream",
     "text": [
      "(4000, 63) (4000, 33) (4000,)\n"
     ]
    }
   ],
   "source": [
    "right_points_x = df.iloc[:, 64:64+63]\n",
    "face_points_x = df.iloc[:, 64+63:]\n",
    "nose_point_x = face_points_x.iloc[:, 0]\n",
    "print(right_points_x.shape, face_points_x.shape, nose_point_x.shape)"
   ]
  },
  {
   "cell_type": "code",
   "execution_count": 298,
   "id": "a7955dd8",
   "metadata": {},
   "outputs": [
    {
     "name": "stdout",
     "output_type": "stream",
     "text": [
      "15 60\n",
      "(4000, 15) (4000, 60)\n"
     ]
    }
   ],
   "source": [
    "angles_list = []\n",
    "vector_list = []\n",
    "for i in range(len(right_points_x)):\n",
    "    row = right_points_x.iloc[i].tolist()\n",
    "    angles, _, _ = compute_joint_angles(row)\n",
    "    vector, _ = compute_connected_unit_vectors(row)\n",
    "    vector = flatten_vectors(vector)\n",
    "    vector_list.append(vector)\n",
    "    angles_list.append(angles)\n",
    "\n",
    "print(len(angles_list[0]), len(vector_list[0]))\n",
    "\n",
    "angular_x = pd.DataFrame(angles_list, columns=None)\n",
    "vector_x = pd.DataFrame(vector_list, columns=None)\n",
    "\n",
    "print(angular_x.shape, vector_x.shape)"
   ]
  },
  {
   "cell_type": "code",
   "execution_count": 299,
   "id": "610ed96e",
   "metadata": {},
   "outputs": [
    {
     "name": "stdout",
     "output_type": "stream",
     "text": [
      "(4000, 75)\n"
     ]
    }
   ],
   "source": [
    "result_x = pd.concat([angular_x, vector_x], axis=1)\n",
    "result_x.columns = range(len(result_x.columns))\n",
    "\n",
    "print(result_x.shape)"
   ]
  },
  {
   "cell_type": "code",
   "execution_count": 300,
   "id": "b7075e07",
   "metadata": {},
   "outputs": [],
   "source": [
    "# result_x.to_csv(\"../../data/angle_vector_num_7_data.csv\", index=False)"
   ]
  },
  {
   "cell_type": "markdown",
   "id": "5ec66cd7",
   "metadata": {},
   "source": [
    "## 데이터 분할하기"
   ]
  },
  {
   "cell_type": "code",
   "execution_count": 301,
   "id": "95b107f0",
   "metadata": {},
   "outputs": [],
   "source": [
    "from sklearn.model_selection import train_test_split\n",
    "\n",
    "x_train, x_test, y_train, y_test = train_test_split(result_x, y, test_size=0.2, random_state=42, shuffle=True, stratify=y)"
   ]
  },
  {
   "cell_type": "markdown",
   "id": "ea9d9a02",
   "metadata": {},
   "source": [
    "## 데이터 스케일링"
   ]
  },
  {
   "cell_type": "code",
   "execution_count": 302,
   "id": "92a9b421",
   "metadata": {},
   "outputs": [],
   "source": [
    "# from sklearn.preprocessing import MinMaxScaler\n",
    "# mms = MinMaxScaler()\n",
    "# x_train = mms.fit_transform(x_train)\n",
    "# x_test = mms.transform(x_test)"
   ]
  },
  {
   "cell_type": "markdown",
   "id": "fa2e66cc",
   "metadata": {},
   "source": [
    "## 모델 학습"
   ]
  },
  {
   "cell_type": "code",
   "execution_count": 303,
   "id": "e23b975c",
   "metadata": {},
   "outputs": [
    {
     "name": "stdout",
     "output_type": "stream",
     "text": [
      "Accuracy: 99.0%\n"
     ]
    }
   ],
   "source": [
    "from xgboost import XGBClassifier\n",
    "from sklearn.ensemble import RandomForestClassifier\n",
    "from sklearn.linear_model import LogisticRegression\n",
    "import numpy as np\n",
    "\n",
    "model = XGBClassifier(n_estimators=200, max_depth=3, learning_rate=0.1)\n",
    "#model = RandomForestClassifier(n_estimators=300, max_depth=5, random_state=42)\n",
    "#model = LogisticRegression(solver='liblinear', max_iter=100)\n",
    "model.fit(x_train, y_train)\n",
    "\n",
    "score = model.score(x_test, y_test)\n",
    "\n",
    "print(f\"Accuracy: {np.round(score*100, 2)}%\")"
   ]
  },
  {
   "cell_type": "code",
   "execution_count": 304,
   "id": "a5e1029c",
   "metadata": {},
   "outputs": [
    {
     "name": "stdout",
     "output_type": "stream",
     "text": [
      "              precision    recall  f1-score   support\n",
      "\n",
      "           0       0.99      0.98      0.98       100\n",
      "           1       0.99      0.99      0.99       100\n",
      "           2       0.98      0.97      0.97       100\n",
      "           3       0.96      0.99      0.98       100\n",
      "           4       1.00      0.99      0.99       100\n",
      "           5       1.00      1.00      1.00       100\n",
      "           6       1.00      1.00      1.00       100\n",
      "           7       1.00      1.00      1.00       100\n",
      "\n",
      "    accuracy                           0.99       800\n",
      "   macro avg       0.99      0.99      0.99       800\n",
      "weighted avg       0.99      0.99      0.99       800\n",
      "\n"
     ]
    }
   ],
   "source": [
    "from sklearn.metrics import classification_report\n",
    "\n",
    "y_pred = model.predict(x_test)\n",
    "print(classification_report(y_test, y_pred))\n"
   ]
  },
  {
   "cell_type": "markdown",
   "id": "738b153a",
   "metadata": {},
   "source": [
    "## 모델 저장하기"
   ]
  },
  {
   "cell_type": "code",
   "execution_count": 305,
   "id": "ac523eed",
   "metadata": {},
   "outputs": [
    {
     "data": {
      "text/plain": [
       "['../../models/xgb_sample_angle_vector_model.pkl']"
      ]
     },
     "execution_count": 305,
     "metadata": {},
     "output_type": "execute_result"
    }
   ],
   "source": [
    "import joblib\n",
    "\n",
    "joblib.dump(model, \"../../models/xgb_sample_angle_vector_model.pkl\")"
   ]
  }
 ],
 "metadata": {
  "kernelspec": {
   "display_name": "korean-sign-language-project (3.10.18)",
   "language": "python",
   "name": "python3"
  },
  "language_info": {
   "codemirror_mode": {
    "name": "ipython",
    "version": 3
   },
   "file_extension": ".py",
   "mimetype": "text/x-python",
   "name": "python",
   "nbconvert_exporter": "python",
   "pygments_lexer": "ipython3",
   "version": "3.10.18"
  }
 },
 "nbformat": 4,
 "nbformat_minor": 5
}

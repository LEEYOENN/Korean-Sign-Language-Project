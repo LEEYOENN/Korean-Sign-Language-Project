{
 "cells": [
  {
   "cell_type": "markdown",
   "id": "70280ac7",
   "metadata": {},
   "source": [
    "# import"
   ]
  },
  {
   "cell_type": "code",
   "execution_count": 149,
   "id": "783751df",
   "metadata": {},
   "outputs": [],
   "source": [
    "import pandas as pd\n",
    "\n",
    "# 보통 현재 작업 폴더(CWD)가 src 이므로 부모(프로젝트 루트)를 sys.path에 추가\n",
    "import sys, os\n",
    "from pathlib import Path\n",
    "\n",
    "ROOT = Path.cwd().parent\n",
    "if (ROOT / \"utils\").exists():\n",
    "    sys.path.insert(0, str(ROOT))\n",
    "else:\n",
    "    # 혹시 구조가 더 깊을 때 대비\n",
    "    ROOT2 = ROOT.parent\n",
    "    if (ROOT2 / \"utils\").exists():\n",
    "        sys.path.insert(0, str(ROOT2))\n",
    "\n",
    "from utils.angular_util import compute_joint_angles, compute_connected_unit_vectors, flatten_vectors, compute_face_hand_vectors"
   ]
  },
  {
   "cell_type": "markdown",
   "id": "17f2378a",
   "metadata": {},
   "source": [
    "## 수집한 데이터 합치기"
   ]
  },
  {
   "cell_type": "code",
   "execution_count": 150,
   "id": "14f9e039",
   "metadata": {},
   "outputs": [],
   "source": [
    "HAND_COUNT = 21 * 3\n",
    "POSE_COUNT = 11 * 3"
   ]
  },
  {
   "cell_type": "markdown",
   "id": "394cfb33",
   "metadata": {},
   "source": [
    "## 헤더 추가\n",
    "🚨 주의!!!! 이미 헤더가 있는 경우 또 추가될 수 있음!"
   ]
  },
  {
   "cell_type": "code",
   "execution_count": 151,
   "id": "b2a657f4",
   "metadata": {},
   "outputs": [],
   "source": [
    "# for i in range(7, 8):\n",
    "#     data = pd.read_csv(f\"../../data/sign_data/sign_data_{i}.csv\")\n",
    "    # data.insert(0, 'label', [i] * len(data))\n",
    "    # columns = [i for i in range(len(data.columns) - 1)]\n",
    "    # columns.insert(0, 'label')\n",
    "    # data.columns = columns\n",
    "    # data.to_csv(f\"../../data/sign_data/sign_data_{i}.csv\", index=False)"
   ]
  },
  {
   "cell_type": "code",
   "execution_count": 152,
   "id": "d8c14a50",
   "metadata": {},
   "outputs": [],
   "source": [
    "# i = 5\n",
    "# data = pd.read_csv(f\"../../data/sign_data/sign_data_{i}.csv\", index_col=False)\n",
    "# data.loc[:, 'label'] = i\n",
    "# data.to_csv(f\"../../data/sign_data/sign_data_{i}.csv\", index=False)"
   ]
  },
  {
   "cell_type": "markdown",
   "id": "7be7356a",
   "metadata": {},
   "source": [
    "## 병합"
   ]
  },
  {
   "cell_type": "code",
   "execution_count": 153,
   "id": "55c0818d",
   "metadata": {},
   "outputs": [
    {
     "name": "stdout",
     "output_type": "stream",
     "text": [
      "0\n",
      "1\n",
      "2\n",
      "3\n",
      "4\n",
      "5\n",
      "6\n",
      "14\n",
      "16\n",
      "24\n"
     ]
    }
   ],
   "source": [
    "merged_data = pd.DataFrame()\n",
    "\n",
    "for i, label in enumerate([0, 1, 2, 3, 4, 5, 6, 14, 16, 24]):\n",
    "    print(label)\n",
    "    data = pd.read_csv(f\"../../data/sign_data/sign_data_{label}.csv\", index_col=False)\n",
    "    data = data.drop(['label'], axis=1)\n",
    "    data.loc[:, 'label'] = i\n",
    "    data = data.sample(n = 500, replace=False)\n",
    "    merged_data = pd.concat([merged_data, data], ignore_index=True)\n",
    "\n",
    "df = merged_data"
   ]
  },
  {
   "cell_type": "code",
   "execution_count": 154,
   "id": "e839643c",
   "metadata": {},
   "outputs": [
    {
     "data": {
      "text/html": [
       "<div>\n",
       "<style scoped>\n",
       "    .dataframe tbody tr th:only-of-type {\n",
       "        vertical-align: middle;\n",
       "    }\n",
       "\n",
       "    .dataframe tbody tr th {\n",
       "        vertical-align: top;\n",
       "    }\n",
       "\n",
       "    .dataframe thead th {\n",
       "        text-align: right;\n",
       "    }\n",
       "</style>\n",
       "<table border=\"1\" class=\"dataframe\">\n",
       "  <thead>\n",
       "    <tr style=\"text-align: right;\">\n",
       "      <th></th>\n",
       "      <th>0</th>\n",
       "      <th>1</th>\n",
       "      <th>2</th>\n",
       "      <th>3</th>\n",
       "      <th>4</th>\n",
       "      <th>5</th>\n",
       "      <th>6</th>\n",
       "      <th>7</th>\n",
       "      <th>8</th>\n",
       "      <th>9</th>\n",
       "      <th>...</th>\n",
       "      <th>150</th>\n",
       "      <th>151</th>\n",
       "      <th>152</th>\n",
       "      <th>153</th>\n",
       "      <th>154</th>\n",
       "      <th>155</th>\n",
       "      <th>156</th>\n",
       "      <th>157</th>\n",
       "      <th>158</th>\n",
       "      <th>label</th>\n",
       "    </tr>\n",
       "  </thead>\n",
       "  <tbody>\n",
       "    <tr>\n",
       "      <th>0</th>\n",
       "      <td>0</td>\n",
       "      <td>0</td>\n",
       "      <td>0</td>\n",
       "      <td>0</td>\n",
       "      <td>0</td>\n",
       "      <td>0</td>\n",
       "      <td>0</td>\n",
       "      <td>0</td>\n",
       "      <td>0</td>\n",
       "      <td>0</td>\n",
       "      <td>...</td>\n",
       "      <td>0.415956</td>\n",
       "      <td>0.480910</td>\n",
       "      <td>-0.345598</td>\n",
       "      <td>0.515833</td>\n",
       "      <td>0.553830</td>\n",
       "      <td>-0.561763</td>\n",
       "      <td>0.461848</td>\n",
       "      <td>0.553832</td>\n",
       "      <td>-0.562273</td>\n",
       "      <td>0</td>\n",
       "    </tr>\n",
       "    <tr>\n",
       "      <th>1</th>\n",
       "      <td>0</td>\n",
       "      <td>0</td>\n",
       "      <td>0</td>\n",
       "      <td>0</td>\n",
       "      <td>0</td>\n",
       "      <td>0</td>\n",
       "      <td>0</td>\n",
       "      <td>0</td>\n",
       "      <td>0</td>\n",
       "      <td>0</td>\n",
       "      <td>...</td>\n",
       "      <td>0.425718</td>\n",
       "      <td>0.468927</td>\n",
       "      <td>-0.291953</td>\n",
       "      <td>0.525497</td>\n",
       "      <td>0.547344</td>\n",
       "      <td>-0.440874</td>\n",
       "      <td>0.472502</td>\n",
       "      <td>0.543820</td>\n",
       "      <td>-0.450870</td>\n",
       "      <td>0</td>\n",
       "    </tr>\n",
       "    <tr>\n",
       "      <th>2</th>\n",
       "      <td>0</td>\n",
       "      <td>0</td>\n",
       "      <td>0</td>\n",
       "      <td>0</td>\n",
       "      <td>0</td>\n",
       "      <td>0</td>\n",
       "      <td>0</td>\n",
       "      <td>0</td>\n",
       "      <td>0</td>\n",
       "      <td>0</td>\n",
       "      <td>...</td>\n",
       "      <td>0.412183</td>\n",
       "      <td>0.414075</td>\n",
       "      <td>-0.250955</td>\n",
       "      <td>0.509104</td>\n",
       "      <td>0.499478</td>\n",
       "      <td>-0.436761</td>\n",
       "      <td>0.457860</td>\n",
       "      <td>0.496353</td>\n",
       "      <td>-0.445405</td>\n",
       "      <td>0</td>\n",
       "    </tr>\n",
       "    <tr>\n",
       "      <th>3</th>\n",
       "      <td>0</td>\n",
       "      <td>0</td>\n",
       "      <td>0</td>\n",
       "      <td>0</td>\n",
       "      <td>0</td>\n",
       "      <td>0</td>\n",
       "      <td>0</td>\n",
       "      <td>0</td>\n",
       "      <td>0</td>\n",
       "      <td>0</td>\n",
       "      <td>...</td>\n",
       "      <td>0.411173</td>\n",
       "      <td>0.436976</td>\n",
       "      <td>-0.258918</td>\n",
       "      <td>0.513541</td>\n",
       "      <td>0.508416</td>\n",
       "      <td>-0.523642</td>\n",
       "      <td>0.455887</td>\n",
       "      <td>0.510107</td>\n",
       "      <td>-0.517213</td>\n",
       "      <td>0</td>\n",
       "    </tr>\n",
       "    <tr>\n",
       "      <th>4</th>\n",
       "      <td>0</td>\n",
       "      <td>0</td>\n",
       "      <td>0</td>\n",
       "      <td>0</td>\n",
       "      <td>0</td>\n",
       "      <td>0</td>\n",
       "      <td>0</td>\n",
       "      <td>0</td>\n",
       "      <td>0</td>\n",
       "      <td>0</td>\n",
       "      <td>...</td>\n",
       "      <td>0.424455</td>\n",
       "      <td>0.442690</td>\n",
       "      <td>-0.291590</td>\n",
       "      <td>0.523954</td>\n",
       "      <td>0.510749</td>\n",
       "      <td>-0.535381</td>\n",
       "      <td>0.472519</td>\n",
       "      <td>0.511365</td>\n",
       "      <td>-0.535433</td>\n",
       "      <td>0</td>\n",
       "    </tr>\n",
       "    <tr>\n",
       "      <th>...</th>\n",
       "      <td>...</td>\n",
       "      <td>...</td>\n",
       "      <td>...</td>\n",
       "      <td>...</td>\n",
       "      <td>...</td>\n",
       "      <td>...</td>\n",
       "      <td>...</td>\n",
       "      <td>...</td>\n",
       "      <td>...</td>\n",
       "      <td>...</td>\n",
       "      <td>...</td>\n",
       "      <td>...</td>\n",
       "      <td>...</td>\n",
       "      <td>...</td>\n",
       "      <td>...</td>\n",
       "      <td>...</td>\n",
       "      <td>...</td>\n",
       "      <td>...</td>\n",
       "      <td>...</td>\n",
       "      <td>...</td>\n",
       "      <td>...</td>\n",
       "    </tr>\n",
       "    <tr>\n",
       "      <th>4995</th>\n",
       "      <td>0</td>\n",
       "      <td>0</td>\n",
       "      <td>0</td>\n",
       "      <td>0</td>\n",
       "      <td>0</td>\n",
       "      <td>0</td>\n",
       "      <td>0</td>\n",
       "      <td>0</td>\n",
       "      <td>0</td>\n",
       "      <td>0</td>\n",
       "      <td>...</td>\n",
       "      <td>0.373312</td>\n",
       "      <td>0.448539</td>\n",
       "      <td>-0.367303</td>\n",
       "      <td>0.499905</td>\n",
       "      <td>0.546677</td>\n",
       "      <td>-0.630056</td>\n",
       "      <td>0.434673</td>\n",
       "      <td>0.549051</td>\n",
       "      <td>-0.630718</td>\n",
       "      <td>9</td>\n",
       "    </tr>\n",
       "    <tr>\n",
       "      <th>4996</th>\n",
       "      <td>0</td>\n",
       "      <td>0</td>\n",
       "      <td>0</td>\n",
       "      <td>0</td>\n",
       "      <td>0</td>\n",
       "      <td>0</td>\n",
       "      <td>0</td>\n",
       "      <td>0</td>\n",
       "      <td>0</td>\n",
       "      <td>0</td>\n",
       "      <td>...</td>\n",
       "      <td>0.373814</td>\n",
       "      <td>0.489353</td>\n",
       "      <td>-0.267193</td>\n",
       "      <td>0.471683</td>\n",
       "      <td>0.568039</td>\n",
       "      <td>-0.523025</td>\n",
       "      <td>0.418739</td>\n",
       "      <td>0.578124</td>\n",
       "      <td>-0.509707</td>\n",
       "      <td>9</td>\n",
       "    </tr>\n",
       "    <tr>\n",
       "      <th>4997</th>\n",
       "      <td>0</td>\n",
       "      <td>0</td>\n",
       "      <td>0</td>\n",
       "      <td>0</td>\n",
       "      <td>0</td>\n",
       "      <td>0</td>\n",
       "      <td>0</td>\n",
       "      <td>0</td>\n",
       "      <td>0</td>\n",
       "      <td>0</td>\n",
       "      <td>...</td>\n",
       "      <td>0.383658</td>\n",
       "      <td>0.454852</td>\n",
       "      <td>-0.297806</td>\n",
       "      <td>0.485475</td>\n",
       "      <td>0.544983</td>\n",
       "      <td>-0.568188</td>\n",
       "      <td>0.425197</td>\n",
       "      <td>0.542943</td>\n",
       "      <td>-0.552346</td>\n",
       "      <td>9</td>\n",
       "    </tr>\n",
       "    <tr>\n",
       "      <th>4998</th>\n",
       "      <td>0</td>\n",
       "      <td>0</td>\n",
       "      <td>0</td>\n",
       "      <td>0</td>\n",
       "      <td>0</td>\n",
       "      <td>0</td>\n",
       "      <td>0</td>\n",
       "      <td>0</td>\n",
       "      <td>0</td>\n",
       "      <td>0</td>\n",
       "      <td>...</td>\n",
       "      <td>0.364269</td>\n",
       "      <td>0.427086</td>\n",
       "      <td>-0.373485</td>\n",
       "      <td>0.480384</td>\n",
       "      <td>0.520014</td>\n",
       "      <td>-0.676240</td>\n",
       "      <td>0.414366</td>\n",
       "      <td>0.523889</td>\n",
       "      <td>-0.666826</td>\n",
       "      <td>9</td>\n",
       "    </tr>\n",
       "    <tr>\n",
       "      <th>4999</th>\n",
       "      <td>0</td>\n",
       "      <td>0</td>\n",
       "      <td>0</td>\n",
       "      <td>0</td>\n",
       "      <td>0</td>\n",
       "      <td>0</td>\n",
       "      <td>0</td>\n",
       "      <td>0</td>\n",
       "      <td>0</td>\n",
       "      <td>0</td>\n",
       "      <td>...</td>\n",
       "      <td>0.391857</td>\n",
       "      <td>0.490386</td>\n",
       "      <td>-0.267387</td>\n",
       "      <td>0.495247</td>\n",
       "      <td>0.574444</td>\n",
       "      <td>-0.531948</td>\n",
       "      <td>0.434930</td>\n",
       "      <td>0.573819</td>\n",
       "      <td>-0.512500</td>\n",
       "      <td>9</td>\n",
       "    </tr>\n",
       "  </tbody>\n",
       "</table>\n",
       "<p>5000 rows × 160 columns</p>\n",
       "</div>"
      ],
      "text/plain": [
       "      0  1  2  3  4  5  6  7  8  9  ...       150       151       152  \\\n",
       "0     0  0  0  0  0  0  0  0  0  0  ...  0.415956  0.480910 -0.345598   \n",
       "1     0  0  0  0  0  0  0  0  0  0  ...  0.425718  0.468927 -0.291953   \n",
       "2     0  0  0  0  0  0  0  0  0  0  ...  0.412183  0.414075 -0.250955   \n",
       "3     0  0  0  0  0  0  0  0  0  0  ...  0.411173  0.436976 -0.258918   \n",
       "4     0  0  0  0  0  0  0  0  0  0  ...  0.424455  0.442690 -0.291590   \n",
       "...  .. .. .. .. .. .. .. .. .. ..  ...       ...       ...       ...   \n",
       "4995  0  0  0  0  0  0  0  0  0  0  ...  0.373312  0.448539 -0.367303   \n",
       "4996  0  0  0  0  0  0  0  0  0  0  ...  0.373814  0.489353 -0.267193   \n",
       "4997  0  0  0  0  0  0  0  0  0  0  ...  0.383658  0.454852 -0.297806   \n",
       "4998  0  0  0  0  0  0  0  0  0  0  ...  0.364269  0.427086 -0.373485   \n",
       "4999  0  0  0  0  0  0  0  0  0  0  ...  0.391857  0.490386 -0.267387   \n",
       "\n",
       "           153       154       155       156       157       158  label  \n",
       "0     0.515833  0.553830 -0.561763  0.461848  0.553832 -0.562273      0  \n",
       "1     0.525497  0.547344 -0.440874  0.472502  0.543820 -0.450870      0  \n",
       "2     0.509104  0.499478 -0.436761  0.457860  0.496353 -0.445405      0  \n",
       "3     0.513541  0.508416 -0.523642  0.455887  0.510107 -0.517213      0  \n",
       "4     0.523954  0.510749 -0.535381  0.472519  0.511365 -0.535433      0  \n",
       "...        ...       ...       ...       ...       ...       ...    ...  \n",
       "4995  0.499905  0.546677 -0.630056  0.434673  0.549051 -0.630718      9  \n",
       "4996  0.471683  0.568039 -0.523025  0.418739  0.578124 -0.509707      9  \n",
       "4997  0.485475  0.544983 -0.568188  0.425197  0.542943 -0.552346      9  \n",
       "4998  0.480384  0.520014 -0.676240  0.414366  0.523889 -0.666826      9  \n",
       "4999  0.495247  0.574444 -0.531948  0.434930  0.573819 -0.512500      9  \n",
       "\n",
       "[5000 rows x 160 columns]"
      ]
     },
     "execution_count": 154,
     "metadata": {},
     "output_type": "execute_result"
    }
   ],
   "source": [
    "df"
   ]
  },
  {
   "cell_type": "code",
   "execution_count": 155,
   "id": "0cf41ed3",
   "metadata": {},
   "outputs": [],
   "source": [
    "# merged_data.to_csv(\"../../data/merge_num_7_data.csv\", index=False)"
   ]
  },
  {
   "cell_type": "markdown",
   "id": "781b6580",
   "metadata": {},
   "source": [
    "## 데이터 불러오기"
   ]
  },
  {
   "cell_type": "code",
   "execution_count": 156,
   "id": "4af0d32f",
   "metadata": {},
   "outputs": [],
   "source": [
    "# import pandas as pd\n",
    "# df = pd.read_csv(\"../../data/merge_num_7_data.csv\")"
   ]
  },
  {
   "cell_type": "markdown",
   "id": "76c7a12a",
   "metadata": {},
   "source": [
    "## 클래스 확인"
   ]
  },
  {
   "cell_type": "code",
   "execution_count": 157,
   "id": "990df892",
   "metadata": {},
   "outputs": [
    {
     "data": {
      "text/plain": [
       "array([0, 1, 2, 3, 4, 5, 6, 7, 8, 9], dtype=int64)"
      ]
     },
     "execution_count": 157,
     "metadata": {},
     "output_type": "execute_result"
    }
   ],
   "source": [
    "df['label'].unique()"
   ]
  },
  {
   "cell_type": "markdown",
   "id": "9e0b1b3e",
   "metadata": {},
   "source": [
    "## x, y 데이터"
   ]
  },
  {
   "cell_type": "code",
   "execution_count": 158,
   "id": "51e86416",
   "metadata": {},
   "outputs": [
    {
     "name": "stdout",
     "output_type": "stream",
     "text": [
      "(5000, 159) (5000,)\n"
     ]
    }
   ],
   "source": [
    "y = df['label']\n",
    "x = df.drop(['label'], axis=1)\n",
    "\n",
    "print(x.shape, y.shape)"
   ]
  },
  {
   "cell_type": "markdown",
   "id": "98fe61b3",
   "metadata": {},
   "source": [
    "# 데이터 전처리"
   ]
  },
  {
   "cell_type": "code",
   "execution_count": 159,
   "id": "f41d2df2",
   "metadata": {},
   "outputs": [
    {
     "name": "stdout",
     "output_type": "stream",
     "text": [
      "(5000, 63) (5000, 33) (5000,)\n"
     ]
    }
   ],
   "source": [
    "right_points_x = x.iloc[:, 63:63+63]\n",
    "face_points_x = x.iloc[:, 63+63:]\n",
    "nose_point_x = face_points_x.iloc[:, 0]\n",
    "print(right_points_x.shape, face_points_x.shape, nose_point_x.shape)"
   ]
  },
  {
   "cell_type": "code",
   "execution_count": 160,
   "id": "a7955dd8",
   "metadata": {},
   "outputs": [
    {
     "name": "stdout",
     "output_type": "stream",
     "text": [
      "15 72\n",
      "(5000, 15) (5000, 72) (5000, 54)\n"
     ]
    }
   ],
   "source": [
    "angles_list = []\n",
    "vector_list = []\n",
    "face_hand_vector_list = []\n",
    "for i in range(len(right_points_x)):\n",
    "    hand_row = right_points_x.iloc[i].tolist()\n",
    "    face_row = face_points_x.iloc[i].tolist()\n",
    "    angles, _, _ = compute_joint_angles(hand_row)\n",
    "    angles_list.append(angles)\n",
    "\n",
    "    _, _, vector = compute_connected_unit_vectors(hand_row, return_flat=True)\n",
    "    vector_list.append(vector)\n",
    "\n",
    "    _, _, face_hand_vector = compute_face_hand_vectors(face_row, hand_row)\n",
    "    face_hand_vector_list.append(face_hand_vector)\n",
    "\n",
    "print(len(angles_list[0]), len(vector_list[0]))\n",
    "\n",
    "angular_x = pd.DataFrame(angles_list, columns=None)\n",
    "vector_x = pd.DataFrame(vector_list, columns=None)\n",
    "face_hand_vector_x = pd.DataFrame(face_hand_vector_list, columns=None)\n",
    "\n",
    "print(angular_x.shape, vector_x.shape, face_hand_vector_x.shape)"
   ]
  },
  {
   "cell_type": "code",
   "execution_count": 161,
   "id": "610ed96e",
   "metadata": {},
   "outputs": [
    {
     "name": "stdout",
     "output_type": "stream",
     "text": [
      "(5000, 141)\n"
     ]
    }
   ],
   "source": [
    "result_x = pd.concat([angular_x, vector_x, face_hand_vector_x], axis=1)\n",
    "result_x.columns = range(len(result_x.columns))\n",
    "\n",
    "print(result_x.shape)"
   ]
  },
  {
   "cell_type": "code",
   "execution_count": 162,
   "id": "b7075e07",
   "metadata": {},
   "outputs": [],
   "source": [
    "# result_x.to_csv(\"../../data/angle_vector_num_7_data.csv\", index=False)"
   ]
  },
  {
   "cell_type": "markdown",
   "id": "5ec66cd7",
   "metadata": {},
   "source": [
    "## 데이터 분할하기"
   ]
  },
  {
   "cell_type": "code",
   "execution_count": 163,
   "id": "95b107f0",
   "metadata": {},
   "outputs": [],
   "source": [
    "from sklearn.model_selection import train_test_split\n",
    "\n",
    "x_train, x_test, y_train, y_test = train_test_split(result_x, y, test_size=0.2, random_state=42, shuffle=True, stratify=y)"
   ]
  },
  {
   "cell_type": "markdown",
   "id": "ea9d9a02",
   "metadata": {},
   "source": [
    "## 데이터 스케일링"
   ]
  },
  {
   "cell_type": "code",
   "execution_count": 164,
   "id": "92a9b421",
   "metadata": {},
   "outputs": [],
   "source": [
    "# from sklearn.preprocessing import MinMaxScaler\n",
    "# mms = MinMaxScaler()\n",
    "# x_train = mms.fit_transform(x_train)\n",
    "# x_test = mms.transform(x_test)"
   ]
  },
  {
   "cell_type": "markdown",
   "id": "fa2e66cc",
   "metadata": {},
   "source": [
    "## 모델 학습"
   ]
  },
  {
   "cell_type": "code",
   "execution_count": 165,
   "id": "e23b975c",
   "metadata": {},
   "outputs": [
    {
     "name": "stdout",
     "output_type": "stream",
     "text": [
      "Accuracy: 98.7%\n"
     ]
    }
   ],
   "source": [
    "from xgboost import XGBClassifier\n",
    "from sklearn.ensemble import RandomForestClassifier\n",
    "from sklearn.linear_model import LogisticRegression\n",
    "import numpy as np\n",
    "\n",
    "model = XGBClassifier(n_estimators=200, max_depth=3, learning_rate=0.01)\n",
    "#model = RandomForestClassifier(n_estimators=300, max_depth=5, random_state=42)\n",
    "#model = LogisticRegression(solver='liblinear', max_iter=100)\n",
    "model.fit(x_train, y_train)\n",
    "\n",
    "score = model.score(x_test, y_test)\n",
    "\n",
    "print(f\"Accuracy: {np.round(score*100, 2)}%\")"
   ]
  },
  {
   "cell_type": "code",
   "execution_count": 166,
   "id": "a5e1029c",
   "metadata": {},
   "outputs": [
    {
     "name": "stdout",
     "output_type": "stream",
     "text": [
      "              precision    recall  f1-score   support\n",
      "\n",
      "           0       1.00      0.98      0.99       100\n",
      "           1       0.96      0.99      0.98       100\n",
      "           2       0.98      0.97      0.97       100\n",
      "           3       0.99      0.99      0.99       100\n",
      "           4       1.00      1.00      1.00       100\n",
      "           5       0.98      0.97      0.97       100\n",
      "           6       1.00      0.99      0.99       100\n",
      "           7       1.00      1.00      1.00       100\n",
      "           8       1.00      1.00      1.00       100\n",
      "           9       0.96      0.98      0.97       100\n",
      "\n",
      "    accuracy                           0.99      1000\n",
      "   macro avg       0.99      0.99      0.99      1000\n",
      "weighted avg       0.99      0.99      0.99      1000\n",
      "\n"
     ]
    }
   ],
   "source": [
    "from sklearn.metrics import classification_report\n",
    "\n",
    "y_pred = model.predict(x_test)\n",
    "print(classification_report(y_test, y_pred))\n"
   ]
  },
  {
   "cell_type": "markdown",
   "id": "738b153a",
   "metadata": {},
   "source": [
    "## 모델 저장하기"
   ]
  },
  {
   "cell_type": "code",
   "execution_count": 167,
   "id": "ac523eed",
   "metadata": {},
   "outputs": [
    {
     "data": {
      "text/plain": [
       "['../../models/xgb_sample_angle_vector_model.pkl']"
      ]
     },
     "execution_count": 167,
     "metadata": {},
     "output_type": "execute_result"
    }
   ],
   "source": [
    "import joblib\n",
    "\n",
    "joblib.dump(model, \"../../models/xgb_sample_angle_vector_model.pkl\")"
   ]
  }
 ],
 "metadata": {
  "kernelspec": {
   "display_name": "korean-sign-language-project (3.10.18)",
   "language": "python",
   "name": "python3"
  },
  "language_info": {
   "codemirror_mode": {
    "name": "ipython",
    "version": 3
   },
   "file_extension": ".py",
   "mimetype": "text/x-python",
   "name": "python",
   "nbconvert_exporter": "python",
   "pygments_lexer": "ipython3",
   "version": "3.10.18"
  }
 },
 "nbformat": 4,
 "nbformat_minor": 5
}
